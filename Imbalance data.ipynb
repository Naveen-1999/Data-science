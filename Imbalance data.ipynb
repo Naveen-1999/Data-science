{
 "cells": [
  {
   "cell_type": "code",
   "execution_count": 1,
   "id": "002b104c",
   "metadata": {},
   "outputs": [],
   "source": [
    "import pandas as pd\n",
    "import numpy as np\n",
    "import matplotlib.pyplot as plt\n",
    "import seaborn as sns\n",
    "\n",
    "import warnings\n",
    "warnings.filterwarnings('ignore')"
   ]
  },
  {
   "cell_type": "code",
   "execution_count": 3,
   "id": "594a69fd",
   "metadata": {},
   "outputs": [],
   "source": [
    "insurance_data = pd.read_csv('insurance_data cleaning.csv')"
   ]
  },
  {
   "cell_type": "code",
   "execution_count": 4,
   "id": "0a2eb442",
   "metadata": {},
   "outputs": [
    {
     "data": {
      "text/plain": [
       "(1041265, 17)"
      ]
     },
     "execution_count": 4,
     "metadata": {},
     "output_type": "execute_result"
    }
   ],
   "source": [
    "insurance_data.shape"
   ]
  },
  {
   "cell_type": "code",
   "execution_count": 5,
   "id": "473d441b",
   "metadata": {},
   "outputs": [
    {
     "data": {
      "text/html": [
       "<div>\n",
       "<style scoped>\n",
       "    .dataframe tbody tr th:only-of-type {\n",
       "        vertical-align: middle;\n",
       "    }\n",
       "\n",
       "    .dataframe tbody tr th {\n",
       "        vertical-align: top;\n",
       "    }\n",
       "\n",
       "    .dataframe thead th {\n",
       "        text-align: right;\n",
       "    }\n",
       "</style>\n",
       "<table border=\"1\" class=\"dataframe\">\n",
       "  <thead>\n",
       "    <tr style=\"text-align: right;\">\n",
       "      <th></th>\n",
       "      <th>Unnamed: 0</th>\n",
       "      <th>Hospital County</th>\n",
       "      <th>Age</th>\n",
       "      <th>Gender</th>\n",
       "      <th>Days_spend_hsptl</th>\n",
       "      <th>Admission_type</th>\n",
       "      <th>ccs_diagnosis_code</th>\n",
       "      <th>apr_drg_description</th>\n",
       "      <th>Code_illness</th>\n",
       "      <th>Mortality risk</th>\n",
       "      <th>Surg_Description</th>\n",
       "      <th>Emergency dept_yes/No</th>\n",
       "      <th>Tot_charg</th>\n",
       "      <th>Tot_cost</th>\n",
       "      <th>ratio_of_total_costs_to_total_charges</th>\n",
       "      <th>Result</th>\n",
       "      <th>Payment_Typology</th>\n",
       "    </tr>\n",
       "  </thead>\n",
       "  <tbody>\n",
       "    <tr>\n",
       "      <th>0</th>\n",
       "      <td>0</td>\n",
       "      <td>1</td>\n",
       "      <td>2</td>\n",
       "      <td>0</td>\n",
       "      <td>4</td>\n",
       "      <td>0</td>\n",
       "      <td>122</td>\n",
       "      <td>237</td>\n",
       "      <td>1</td>\n",
       "      <td>1</td>\n",
       "      <td>0</td>\n",
       "      <td>1</td>\n",
       "      <td>5511.95</td>\n",
       "      <td>5582.49</td>\n",
       "      <td>1.012798</td>\n",
       "      <td>1</td>\n",
       "      <td>1</td>\n",
       "    </tr>\n",
       "    <tr>\n",
       "      <th>1</th>\n",
       "      <td>1</td>\n",
       "      <td>1</td>\n",
       "      <td>4</td>\n",
       "      <td>0</td>\n",
       "      <td>4</td>\n",
       "      <td>5</td>\n",
       "      <td>197</td>\n",
       "      <td>38</td>\n",
       "      <td>3</td>\n",
       "      <td>2</td>\n",
       "      <td>0</td>\n",
       "      <td>1</td>\n",
       "      <td>4783.20</td>\n",
       "      <td>5162.82</td>\n",
       "      <td>1.079365</td>\n",
       "      <td>1</td>\n",
       "      <td>1</td>\n",
       "    </tr>\n",
       "    <tr>\n",
       "      <th>2</th>\n",
       "      <td>2</td>\n",
       "      <td>1</td>\n",
       "      <td>2</td>\n",
       "      <td>0</td>\n",
       "      <td>3</td>\n",
       "      <td>5</td>\n",
       "      <td>122</td>\n",
       "      <td>237</td>\n",
       "      <td>1</td>\n",
       "      <td>1</td>\n",
       "      <td>0</td>\n",
       "      <td>1</td>\n",
       "      <td>3829.15</td>\n",
       "      <td>4056.52</td>\n",
       "      <td>1.059379</td>\n",
       "      <td>1</td>\n",
       "      <td>1</td>\n",
       "    </tr>\n",
       "    <tr>\n",
       "      <th>3</th>\n",
       "      <td>3</td>\n",
       "      <td>1</td>\n",
       "      <td>0</td>\n",
       "      <td>0</td>\n",
       "      <td>1</td>\n",
       "      <td>5</td>\n",
       "      <td>122</td>\n",
       "      <td>237</td>\n",
       "      <td>1</td>\n",
       "      <td>1</td>\n",
       "      <td>0</td>\n",
       "      <td>1</td>\n",
       "      <td>1108.20</td>\n",
       "      <td>1644.75</td>\n",
       "      <td>1.484167</td>\n",
       "      <td>0</td>\n",
       "      <td>1</td>\n",
       "    </tr>\n",
       "    <tr>\n",
       "      <th>4</th>\n",
       "      <td>4</td>\n",
       "      <td>1</td>\n",
       "      <td>4</td>\n",
       "      <td>0</td>\n",
       "      <td>3</td>\n",
       "      <td>0</td>\n",
       "      <td>122</td>\n",
       "      <td>237</td>\n",
       "      <td>2</td>\n",
       "      <td>3</td>\n",
       "      <td>0</td>\n",
       "      <td>1</td>\n",
       "      <td>3418.18</td>\n",
       "      <td>3370.87</td>\n",
       "      <td>0.986161</td>\n",
       "      <td>1</td>\n",
       "      <td>1</td>\n",
       "    </tr>\n",
       "  </tbody>\n",
       "</table>\n",
       "</div>"
      ],
      "text/plain": [
       "   Unnamed: 0  Hospital County  Age  Gender  Days_spend_hsptl  Admission_type  \\\n",
       "0           0                1    2       0                 4               0   \n",
       "1           1                1    4       0                 4               5   \n",
       "2           2                1    2       0                 3               5   \n",
       "3           3                1    0       0                 1               5   \n",
       "4           4                1    4       0                 3               0   \n",
       "\n",
       "   ccs_diagnosis_code  apr_drg_description  Code_illness  Mortality risk  \\\n",
       "0                 122                  237             1               1   \n",
       "1                 197                   38             3               2   \n",
       "2                 122                  237             1               1   \n",
       "3                 122                  237             1               1   \n",
       "4                 122                  237             2               3   \n",
       "\n",
       "   Surg_Description  Emergency dept_yes/No  Tot_charg  Tot_cost  \\\n",
       "0                 0                      1    5511.95   5582.49   \n",
       "1                 0                      1    4783.20   5162.82   \n",
       "2                 0                      1    3829.15   4056.52   \n",
       "3                 0                      1    1108.20   1644.75   \n",
       "4                 0                      1    3418.18   3370.87   \n",
       "\n",
       "   ratio_of_total_costs_to_total_charges  Result  Payment_Typology  \n",
       "0                               1.012798       1                 1  \n",
       "1                               1.079365       1                 1  \n",
       "2                               1.059379       1                 1  \n",
       "3                               1.484167       0                 1  \n",
       "4                               0.986161       1                 1  "
      ]
     },
     "execution_count": 5,
     "metadata": {},
     "output_type": "execute_result"
    }
   ],
   "source": [
    "insurance_data.head()"
   ]
  },
  {
   "cell_type": "code",
   "execution_count": 7,
   "id": "530b2a5a",
   "metadata": {},
   "outputs": [],
   "source": [
    "insurance_data_1 = insurance_data.drop(['Unnamed: 0','Hospital County','apr_drg_description'],axis=1)"
   ]
  },
  {
   "cell_type": "markdown",
   "id": "c62317a8",
   "metadata": {},
   "source": [
    "# Model Building"
   ]
  },
  {
   "cell_type": "code",
   "execution_count": null,
   "id": "ba52644e",
   "metadata": {},
   "outputs": [],
   "source": [
    "# Dividing into Predictor and Target"
   ]
  },
  {
   "cell_type": "code",
   "execution_count": 8,
   "id": "ceff5259",
   "metadata": {},
   "outputs": [],
   "source": [
    "X = insurance_data_1.drop(['Result'],axis=1)\n",
    "y = insurance_data_1[['Result']]"
   ]
  },
  {
   "cell_type": "code",
   "execution_count": 9,
   "id": "bff2495c",
   "metadata": {},
   "outputs": [
    {
     "data": {
      "text/html": [
       "<div>\n",
       "<style scoped>\n",
       "    .dataframe tbody tr th:only-of-type {\n",
       "        vertical-align: middle;\n",
       "    }\n",
       "\n",
       "    .dataframe tbody tr th {\n",
       "        vertical-align: top;\n",
       "    }\n",
       "\n",
       "    .dataframe thead th {\n",
       "        text-align: right;\n",
       "    }\n",
       "</style>\n",
       "<table border=\"1\" class=\"dataframe\">\n",
       "  <thead>\n",
       "    <tr style=\"text-align: right;\">\n",
       "      <th></th>\n",
       "      <th>Age</th>\n",
       "      <th>Gender</th>\n",
       "      <th>Days_spend_hsptl</th>\n",
       "      <th>Admission_type</th>\n",
       "      <th>ccs_diagnosis_code</th>\n",
       "      <th>Code_illness</th>\n",
       "      <th>Mortality risk</th>\n",
       "      <th>Surg_Description</th>\n",
       "      <th>Emergency dept_yes/No</th>\n",
       "      <th>Tot_charg</th>\n",
       "      <th>Tot_cost</th>\n",
       "      <th>ratio_of_total_costs_to_total_charges</th>\n",
       "      <th>Payment_Typology</th>\n",
       "    </tr>\n",
       "  </thead>\n",
       "  <tbody>\n",
       "    <tr>\n",
       "      <th>0</th>\n",
       "      <td>2</td>\n",
       "      <td>0</td>\n",
       "      <td>4</td>\n",
       "      <td>0</td>\n",
       "      <td>122</td>\n",
       "      <td>1</td>\n",
       "      <td>1</td>\n",
       "      <td>0</td>\n",
       "      <td>1</td>\n",
       "      <td>5511.95</td>\n",
       "      <td>5582.49</td>\n",
       "      <td>1.012798</td>\n",
       "      <td>1</td>\n",
       "    </tr>\n",
       "    <tr>\n",
       "      <th>1</th>\n",
       "      <td>4</td>\n",
       "      <td>0</td>\n",
       "      <td>4</td>\n",
       "      <td>5</td>\n",
       "      <td>197</td>\n",
       "      <td>3</td>\n",
       "      <td>2</td>\n",
       "      <td>0</td>\n",
       "      <td>1</td>\n",
       "      <td>4783.20</td>\n",
       "      <td>5162.82</td>\n",
       "      <td>1.079365</td>\n",
       "      <td>1</td>\n",
       "    </tr>\n",
       "    <tr>\n",
       "      <th>2</th>\n",
       "      <td>2</td>\n",
       "      <td>0</td>\n",
       "      <td>3</td>\n",
       "      <td>5</td>\n",
       "      <td>122</td>\n",
       "      <td>1</td>\n",
       "      <td>1</td>\n",
       "      <td>0</td>\n",
       "      <td>1</td>\n",
       "      <td>3829.15</td>\n",
       "      <td>4056.52</td>\n",
       "      <td>1.059379</td>\n",
       "      <td>1</td>\n",
       "    </tr>\n",
       "    <tr>\n",
       "      <th>3</th>\n",
       "      <td>0</td>\n",
       "      <td>0</td>\n",
       "      <td>1</td>\n",
       "      <td>5</td>\n",
       "      <td>122</td>\n",
       "      <td>1</td>\n",
       "      <td>1</td>\n",
       "      <td>0</td>\n",
       "      <td>1</td>\n",
       "      <td>1108.20</td>\n",
       "      <td>1644.75</td>\n",
       "      <td>1.484167</td>\n",
       "      <td>1</td>\n",
       "    </tr>\n",
       "    <tr>\n",
       "      <th>4</th>\n",
       "      <td>4</td>\n",
       "      <td>0</td>\n",
       "      <td>3</td>\n",
       "      <td>0</td>\n",
       "      <td>122</td>\n",
       "      <td>2</td>\n",
       "      <td>3</td>\n",
       "      <td>0</td>\n",
       "      <td>1</td>\n",
       "      <td>3418.18</td>\n",
       "      <td>3370.87</td>\n",
       "      <td>0.986161</td>\n",
       "      <td>1</td>\n",
       "    </tr>\n",
       "  </tbody>\n",
       "</table>\n",
       "</div>"
      ],
      "text/plain": [
       "   Age  Gender  Days_spend_hsptl  Admission_type  ccs_diagnosis_code  \\\n",
       "0    2       0                 4               0                 122   \n",
       "1    4       0                 4               5                 197   \n",
       "2    2       0                 3               5                 122   \n",
       "3    0       0                 1               5                 122   \n",
       "4    4       0                 3               0                 122   \n",
       "\n",
       "   Code_illness  Mortality risk  Surg_Description  Emergency dept_yes/No  \\\n",
       "0             1               1                 0                      1   \n",
       "1             3               2                 0                      1   \n",
       "2             1               1                 0                      1   \n",
       "3             1               1                 0                      1   \n",
       "4             2               3                 0                      1   \n",
       "\n",
       "   Tot_charg  Tot_cost  ratio_of_total_costs_to_total_charges  \\\n",
       "0    5511.95   5582.49                               1.012798   \n",
       "1    4783.20   5162.82                               1.079365   \n",
       "2    3829.15   4056.52                               1.059379   \n",
       "3    1108.20   1644.75                               1.484167   \n",
       "4    3418.18   3370.87                               0.986161   \n",
       "\n",
       "   Payment_Typology  \n",
       "0                 1  \n",
       "1                 1  \n",
       "2                 1  \n",
       "3                 1  \n",
       "4                 1  "
      ]
     },
     "execution_count": 9,
     "metadata": {},
     "output_type": "execute_result"
    }
   ],
   "source": [
    "X.head()"
   ]
  },
  {
   "cell_type": "code",
   "execution_count": 20,
   "id": "ba22b2c1",
   "metadata": {},
   "outputs": [
    {
     "data": {
      "text/plain": [
       "(1041265, 13)"
      ]
     },
     "execution_count": 20,
     "metadata": {},
     "output_type": "execute_result"
    }
   ],
   "source": [
    "X.shape"
   ]
  },
  {
   "cell_type": "code",
   "execution_count": 10,
   "id": "1a65e978",
   "metadata": {},
   "outputs": [
    {
     "data": {
      "text/html": [
       "<div>\n",
       "<style scoped>\n",
       "    .dataframe tbody tr th:only-of-type {\n",
       "        vertical-align: middle;\n",
       "    }\n",
       "\n",
       "    .dataframe tbody tr th {\n",
       "        vertical-align: top;\n",
       "    }\n",
       "\n",
       "    .dataframe thead th {\n",
       "        text-align: right;\n",
       "    }\n",
       "</style>\n",
       "<table border=\"1\" class=\"dataframe\">\n",
       "  <thead>\n",
       "    <tr style=\"text-align: right;\">\n",
       "      <th></th>\n",
       "      <th>Result</th>\n",
       "    </tr>\n",
       "  </thead>\n",
       "  <tbody>\n",
       "    <tr>\n",
       "      <th>0</th>\n",
       "      <td>1</td>\n",
       "    </tr>\n",
       "    <tr>\n",
       "      <th>1</th>\n",
       "      <td>1</td>\n",
       "    </tr>\n",
       "    <tr>\n",
       "      <th>2</th>\n",
       "      <td>1</td>\n",
       "    </tr>\n",
       "    <tr>\n",
       "      <th>3</th>\n",
       "      <td>0</td>\n",
       "    </tr>\n",
       "    <tr>\n",
       "      <th>4</th>\n",
       "      <td>1</td>\n",
       "    </tr>\n",
       "  </tbody>\n",
       "</table>\n",
       "</div>"
      ],
      "text/plain": [
       "   Result\n",
       "0       1\n",
       "1       1\n",
       "2       1\n",
       "3       0\n",
       "4       1"
      ]
     },
     "execution_count": 10,
     "metadata": {},
     "output_type": "execute_result"
    }
   ],
   "source": [
    "y.head()"
   ]
  },
  {
   "cell_type": "markdown",
   "id": "343577d7",
   "metadata": {},
   "source": [
    "# Check Whether the data is balanced or Imbalanced"
   ]
  },
  {
   "cell_type": "code",
   "execution_count": 11,
   "id": "38ce4521",
   "metadata": {},
   "outputs": [
    {
     "data": {
      "text/plain": [
       "Result\n",
       "1         780361\n",
       "0         260904\n",
       "dtype: int64"
      ]
     },
     "execution_count": 11,
     "metadata": {},
     "output_type": "execute_result"
    }
   ],
   "source": [
    "y.value_counts()"
   ]
  },
  {
   "cell_type": "code",
   "execution_count": 12,
   "id": "4d9c706a",
   "metadata": {},
   "outputs": [],
   "source": [
    "# From the data we know that the target data is containing the 75%(1) of genuine data and 25%(0) of fraud data\n",
    "# this imbalance data may create the biasness towards the genuine data\n",
    "# so oversampling to be used to balance the data"
   ]
  },
  {
   "cell_type": "code",
   "execution_count": 13,
   "id": "a9515b4f",
   "metadata": {
    "scrolled": false
   },
   "outputs": [
    {
     "name": "stdout",
     "output_type": "stream",
     "text": [
      "Collecting imbalanced-learn\n",
      "  Downloading imbalanced_learn-0.9.0-py3-none-any.whl (199 kB)\n",
      "Requirement already satisfied: threadpoolctl>=2.0.0 in c:\\users\\user\\anaconda3\\lib\\site-packages (from imbalanced-learn) (2.2.0)\n",
      "Collecting scikit-learn>=1.0.1\n",
      "  Downloading scikit_learn-1.0.2-cp39-cp39-win_amd64.whl (7.2 MB)\n",
      "Requirement already satisfied: joblib>=0.11 in c:\\users\\user\\anaconda3\\lib\\site-packages (from imbalanced-learn) (1.1.0)\n",
      "Requirement already satisfied: scipy>=1.1.0 in c:\\users\\user\\anaconda3\\lib\\site-packages (from imbalanced-learn) (1.7.1)\n",
      "Requirement already satisfied: numpy>=1.14.6 in c:\\users\\user\\anaconda3\\lib\\site-packages (from imbalanced-learn) (1.20.3)\n",
      "Installing collected packages: scikit-learn, imbalanced-learn\n",
      "  Attempting uninstall: scikit-learn\n",
      "    Found existing installation: scikit-learn 0.24.2\n",
      "    Uninstalling scikit-learn-0.24.2:\n",
      "      Successfully uninstalled scikit-learn-0.24.2\n"
     ]
    },
    {
     "name": "stderr",
     "output_type": "stream",
     "text": [
      "ERROR: Could not install packages due to an OSError: [WinError 5] Access is denied: 'C:\\\\Users\\\\user\\\\anaconda3\\\\Lib\\\\site-packages\\\\~klearn\\\\preprocessing\\\\_csr_polynomial_expansion.cp39-win_amd64.pyd'\n",
      "Consider using the `--user` option or check the permissions.\n",
      "\n"
     ]
    }
   ],
   "source": [
    "!pip install imbalanced-learn"
   ]
  },
  {
   "cell_type": "markdown",
   "id": "3a6ebe60",
   "metadata": {},
   "source": [
    "# Random Oversampling"
   ]
  },
  {
   "cell_type": "code",
   "execution_count": 30,
   "id": "fe4eaada",
   "metadata": {},
   "outputs": [
    {
     "data": {
      "text/plain": [
       "((1560722, 13), (1560722, 1))"
      ]
     },
     "execution_count": 30,
     "metadata": {},
     "output_type": "execute_result"
    }
   ],
   "source": [
    "from imblearn.over_sampling import RandomOverSampler\n",
    "os =  RandomOverSampler(sampling_strategy='minority')\n",
    "X_os, y_os = os.fit_resample(X, y)\n",
    "X_os.shape,y_os.shape"
   ]
  },
  {
   "cell_type": "code",
   "execution_count": 31,
   "id": "51eea83d",
   "metadata": {},
   "outputs": [
    {
     "name": "stdout",
     "output_type": "stream",
     "text": [
      "Counter({'Result': 1})\n",
      "Counter({'Result': 1})\n"
     ]
    }
   ],
   "source": [
    "from collections import Counter\n",
    "print(Counter(y))\n",
    "print(Counter(y_os))"
   ]
  },
  {
   "cell_type": "code",
   "execution_count": 32,
   "id": "20ffadb4",
   "metadata": {},
   "outputs": [
    {
     "data": {
      "text/plain": [
       "Result\n",
       "0         780361\n",
       "1         780361\n",
       "dtype: int64"
      ]
     },
     "execution_count": 32,
     "metadata": {},
     "output_type": "execute_result"
    }
   ],
   "source": [
    "y_os.value_counts()"
   ]
  },
  {
   "cell_type": "code",
   "execution_count": 34,
   "id": "cb713dcd",
   "metadata": {},
   "outputs": [
    {
     "data": {
      "image/png": "[encoded data removed]",
      "text/plain": [
       "<Figure size 720x504 with 1 Axes>"
      ]
     },
     "metadata": {},
     "output_type": "display_data"
    }
   ],
   "source": [
    "plt.figure(figsize=(10,7))\n",
    "plt.pie(y.value_counts(),labels=['Fraud Claim','Genuine Claim'],explode=[0.02,0.02],autopct='%1.0f%%')\n",
    "plt.show()"
   ]
  },
  {
   "cell_type": "code",
   "execution_count": 35,
   "id": "bf55d4aa",
   "metadata": {},
   "outputs": [
    {
     "data": {
      "image/png": "[encoded data removed]",
      "text/plain": [
       "<Figure size 720x504 with 1 Axes>"
      ]
     },
     "metadata": {},
     "output_type": "display_data"
    }
   ],
   "source": [
    "plt.figure(figsize=(10,7))\n",
    "plt.pie(y_os.value_counts(),labels=['Fraud Claim','Genuine Claim'],explode=[0.02,0.02],autopct='%1.0f%%')\n",
    "plt.show()"
   ]
  },
  {
   "cell_type": "code",
   "execution_count": 36,
   "id": "5a7cf852",
   "metadata": {},
   "outputs": [],
   "source": [
    "# splitting the data into training and testing\n",
    "# training data = 80%\n",
    "# testing data  = 20%\n",
    "# splitting the data by using train-test-split method"
   ]
  },
  {
   "cell_type": "code",
   "execution_count": 37,
   "id": "83e84768",
   "metadata": {},
   "outputs": [],
   "source": [
    "from sklearn.model_selection import train_test_split"
   ]
  },
  {
   "cell_type": "code",
   "execution_count": 38,
   "id": "a9ea260f",
   "metadata": {},
   "outputs": [],
   "source": [
    "X_train,X_test,y_train,y_test = train_test_split(X_os,y_os,test_size=0.20,random_state=123,stratify=y_os)"
   ]
  },
  {
   "cell_type": "code",
   "execution_count": 39,
   "id": "78aca167",
   "metadata": {},
   "outputs": [
    {
     "data": {
      "text/plain": [
       "((1248577, 13), (1248577, 1))"
      ]
     },
     "execution_count": 39,
     "metadata": {},
     "output_type": "execute_result"
    }
   ],
   "source": [
    "X_train.shape,y_train.shape"
   ]
  },
  {
   "cell_type": "code",
   "execution_count": 40,
   "id": "9ff78559",
   "metadata": {},
   "outputs": [
    {
     "data": {
      "text/plain": [
       "((312145, 13), (312145, 1))"
      ]
     },
     "execution_count": 40,
     "metadata": {},
     "output_type": "execute_result"
    }
   ],
   "source": [
    "X_test.shape,y_test.shape"
   ]
  },
  {
   "cell_type": "code",
   "execution_count": 41,
   "id": "36e0a346",
   "metadata": {},
   "outputs": [],
   "source": [
    "from sklearn.linear_model import LogisticRegression\n",
    "from sklearn.tree import DecisionTreeClassifier\n",
    "from sklearn.ensemble import BaggingClassifier\n",
    "from sklearn.ensemble import RandomForestClassifier\n",
    "from sklearn.ensemble import GradientBoostingClassifier"
   ]
  },
  {
   "cell_type": "markdown",
   "id": "ca15d5b2",
   "metadata": {},
   "source": [
    "# 1.Logistic Regression"
   ]
  },
  {
   "cell_type": "code",
   "execution_count": 43,
   "id": "54df5df7",
   "metadata": {},
   "outputs": [
    {
     "data": {
      "text/plain": [
       "LogisticRegression()"
      ]
     },
     "execution_count": 43,
     "metadata": {},
     "output_type": "execute_result"
    }
   ],
   "source": [
    "logistic_model = LogisticRegression()\n",
    "logistic_model.fit(X_train,y_train)"
   ]
  },
  {
   "cell_type": "code",
   "execution_count": 55,
   "id": "ada8174e",
   "metadata": {},
   "outputs": [],
   "source": [
    "# for training"
   ]
  },
  {
   "cell_type": "code",
   "execution_count": 45,
   "id": "3fadae6d",
   "metadata": {},
   "outputs": [],
   "source": [
    "y_predict_train = logistic_model.predict(X_train)"
   ]
  },
  {
   "cell_type": "code",
   "execution_count": 47,
   "id": "ab7f1421",
   "metadata": {},
   "outputs": [],
   "source": [
    "from sklearn.metrics import accuracy_score,classification_report,confusion_matrix,auc,roc_auc_score,roc_curve"
   ]
  },
  {
   "cell_type": "code",
   "execution_count": 48,
   "id": "da544393",
   "metadata": {},
   "outputs": [
    {
     "name": "stdout",
     "output_type": "stream",
     "text": [
      "Accuracy score: 0.5000708806905781\n",
      "....................................................\n",
      "Confusion matrix:\n",
      " [[565945  58343]\n",
      " [565857  58432]]\n",
      "....................................................\n",
      "Classification Report:\n",
      "               precision    recall  f1-score   support\n",
      "\n",
      "           0       0.50      0.91      0.64    624288\n",
      "           1       0.50      0.09      0.16    624289\n",
      "\n",
      "    accuracy                           0.50   1248577\n",
      "   macro avg       0.50      0.50      0.40   1248577\n",
      "weighted avg       0.50      0.50      0.40   1248577\n",
      "\n"
     ]
    }
   ],
   "source": [
    "print('Accuracy score:',accuracy_score(y_train,y_predict_train))\n",
    "print('....................................................')\n",
    "print('Confusion matrix:\\n',confusion_matrix(y_train,y_predict_train))\n",
    "print('....................................................')\n",
    "print('Classification Report:\\n',classification_report(y_train,y_predict_train))"
   ]
  },
  {
   "cell_type": "code",
   "execution_count": null,
   "id": "d6c022bf",
   "metadata": {},
   "outputs": [],
   "source": [
    "# For testing"
   ]
  },
  {
   "cell_type": "code",
   "execution_count": 50,
   "id": "f765bd01",
   "metadata": {},
   "outputs": [],
   "source": [
    "y_predict_test = logistic_model.predict(X_test)"
   ]
  },
  {
   "cell_type": "code",
   "execution_count": 51,
   "id": "b5484b46",
   "metadata": {},
   "outputs": [
    {
     "name": "stdout",
     "output_type": "stream",
     "text": [
      "Accuracy score: 0.49991510355764146\n",
      "....................................................\n",
      "Confusion matrix:\n",
      " [[141408  14665]\n",
      " [141434  14638]]\n",
      "....................................................\n",
      "Classification Report:\n",
      "               precision    recall  f1-score   support\n",
      "\n",
      "           0       0.50      0.91      0.64    156073\n",
      "           1       0.50      0.09      0.16    156072\n",
      "\n",
      "    accuracy                           0.50    312145\n",
      "   macro avg       0.50      0.50      0.40    312145\n",
      "weighted avg       0.50      0.50      0.40    312145\n",
      "\n"
     ]
    }
   ],
   "source": [
    "print('Accuracy score:',accuracy_score(y_test,y_predict_test))\n",
    "print('....................................................')\n",
    "print('Confusion matrix:\\n',confusion_matrix(y_test,y_predict_test))\n",
    "print('....................................................')\n",
    "print('Classification Report:\\n',classification_report(y_test,y_predict_test))"
   ]
  },
  {
   "cell_type": "code",
   "execution_count": 53,
   "id": "89d00df1",
   "metadata": {},
   "outputs": [
    {
     "name": "stdout",
     "output_type": "stream",
     "text": [
      "Area Under the Curve[AUC]:  0.5000712062400072\n"
     ]
    }
   ],
   "source": [
    "from sklearn.metrics import roc_curve,roc_auc_score\n",
    "fpr, tpr, thresholds = roc_curve(y, logistic_model.predict_proba (X)[:,1])\n",
    "\n",
    "auc = roc_auc_score(y_train,y_predict_train)\n",
    "print('Area Under the Curve[AUC]: ',auc)"
   ]
  },
  {
   "cell_type": "code",
   "execution_count": 54,
   "id": "66a8f91a",
   "metadata": {},
   "outputs": [
    {
     "data": {
      "text/plain": [
       "Text(0, 0.5, 'True Positive Rate')"
      ]
     },
     "execution_count": 54,
     "metadata": {},
     "output_type": "execute_result"
    },
    {
     "data": {
      "image/png": "[encoded data removed]",
      "text/plain": [
       "<Figure size 432x288 with 1 Axes>"
      ]
     },
     "metadata": {
      "needs_background": "light"
     },
     "output_type": "display_data"
    }
   ],
   "source": [
    "plt.plot(fpr, tpr, color='red', label='logit model ( area  = %0.2f)'%auc)\n",
    "plt.plot([0, 1], [0, 1], 'k--')\n",
    "plt.xlabel('False Positive Rate or [1 - True Negative Rate]')\n",
    "plt.ylabel('True Positive Rate')"
   ]
  },
  {
   "cell_type": "markdown",
   "id": "0efc6b81",
   "metadata": {},
   "source": [
    "# 2. Random Forest"
   ]
  },
  {
   "cell_type": "code",
   "execution_count": 56,
   "id": "e28ef724",
   "metadata": {},
   "outputs": [],
   "source": [
    "from sklearn.ensemble import RandomForestClassifier"
   ]
  },
  {
   "cell_type": "code",
   "execution_count": 58,
   "id": "202c127f",
   "metadata": {},
   "outputs": [
    {
     "data": {
      "text/plain": [
       "RandomForestClassifier(n_estimators=50, random_state=123)"
      ]
     },
     "execution_count": 58,
     "metadata": {},
     "output_type": "execute_result"
    }
   ],
   "source": [
    "rf_classifier = RandomForestClassifier(n_estimators=50,random_state=123)\n",
    "rf_classifier.fit(X_train,y_train)"
   ]
  },
  {
   "cell_type": "code",
   "execution_count": null,
   "id": "cd82a44b",
   "metadata": {},
   "outputs": [],
   "source": [
    "#for training"
   ]
  },
  {
   "cell_type": "code",
   "execution_count": 60,
   "id": "614b27ba",
   "metadata": {},
   "outputs": [],
   "source": [
    "y_pred_train = rf_classifier.predict(X_train)"
   ]
  },
  {
   "cell_type": "code",
   "execution_count": 61,
   "id": "787e9147",
   "metadata": {},
   "outputs": [
    {
     "name": "stdout",
     "output_type": "stream",
     "text": [
      "Accuracy score: 0.9910778430164899\n",
      "....................................................\n",
      "Confusion matrix:\n",
      " [[620888   3400]\n",
      " [  7740 616549]]\n",
      "....................................................\n",
      "Classification Report:\n",
      "               precision    recall  f1-score   support\n",
      "\n",
      "           0       0.99      0.99      0.99    624288\n",
      "           1       0.99      0.99      0.99    624289\n",
      "\n",
      "    accuracy                           0.99   1248577\n",
      "   macro avg       0.99      0.99      0.99   1248577\n",
      "weighted avg       0.99      0.99      0.99   1248577\n",
      "\n"
     ]
    }
   ],
   "source": [
    "print('Accuracy score:',accuracy_score(y_train,y_pred_train))\n",
    "print('....................................................')\n",
    "print('Confusion matrix:\\n',confusion_matrix(y_train,y_pred_train))\n",
    "print('....................................................')\n",
    "print('Classification Report:\\n',classification_report(y_train,y_pred_train))"
   ]
  },
  {
   "cell_type": "code",
   "execution_count": null,
   "id": "c4dfa8f2",
   "metadata": {},
   "outputs": [],
   "source": [
    "# for testing"
   ]
  },
  {
   "cell_type": "code",
   "execution_count": 63,
   "id": "bca46c17",
   "metadata": {},
   "outputs": [],
   "source": [
    "y_pred_test = rf_classifier.predict(X_test)"
   ]
  },
  {
   "cell_type": "code",
   "execution_count": 64,
   "id": "eaaee695",
   "metadata": {},
   "outputs": [
    {
     "name": "stdout",
     "output_type": "stream",
     "text": [
      "Accuracy score: 0.877012285956847\n",
      "....................................................\n",
      "Confusion matrix:\n",
      " [[142652  13421]\n",
      " [ 24969 131103]]\n",
      "....................................................\n",
      "Classification Report:\n",
      "               precision    recall  f1-score   support\n",
      "\n",
      "           0       0.85      0.91      0.88    156073\n",
      "           1       0.91      0.84      0.87    156072\n",
      "\n",
      "    accuracy                           0.88    312145\n",
      "   macro avg       0.88      0.88      0.88    312145\n",
      "weighted avg       0.88      0.88      0.88    312145\n",
      "\n"
     ]
    }
   ],
   "source": [
    "print('Accuracy score:',accuracy_score(y_test,y_pred_test))\n",
    "print('....................................................')\n",
    "print('Confusion matrix:\\n',confusion_matrix(y_test,y_pred_test))\n",
    "print('....................................................')\n",
    "print('Classification Report:\\n',classification_report(y_test,y_pred_test))"
   ]
  },
  {
   "cell_type": "code",
   "execution_count": 65,
   "id": "448b1208",
   "metadata": {},
   "outputs": [
    {
     "name": "stdout",
     "output_type": "stream",
     "text": [
      "Area Under the Curve[AUC]:  0.991077845800419\n"
     ]
    }
   ],
   "source": [
    "fpr, tpr, thresholds = roc_curve(y, rf_classifier.predict_proba (X)[:,1])\n",
    "\n",
    "auc = roc_auc_score(y_train,y_pred_train)\n",
    "print('Area Under the Curve[AUC]: ',auc)"
   ]
  },
  {
   "cell_type": "code",
   "execution_count": 66,
   "id": "51dcde2b",
   "metadata": {},
   "outputs": [
    {
     "data": {
      "text/plain": [
       "Text(0, 0.5, 'True Positive Rate')"
      ]
     },
     "execution_count": 66,
     "metadata": {},
     "output_type": "execute_result"
    },
    {
     "data": {
      "image/png": "[encoded data removed]",
      "text/plain": [
       "<Figure size 432x288 with 1 Axes>"
      ]
     },
     "metadata": {
      "needs_background": "light"
     },
     "output_type": "display_data"
    }
   ],
   "source": [
    "plt.plot(fpr, tpr, color='red', label='logit model ( area  = %0.2f)'%auc)\n",
    "plt.plot([0, 1], [0, 1], 'k--')\n",
    "plt.xlabel('False Positive Rate or [1 - True Negative Rate]')\n",
    "plt.ylabel('True Positive Rate')"
   ]
  },
  {
   "cell_type": "markdown",
   "id": "adf400d8",
   "metadata": {},
   "source": [
    "# 3. Gradient Boosting"
   ]
  },
  {
   "cell_type": "code",
   "execution_count": 67,
   "id": "93cf2b3e",
   "metadata": {},
   "outputs": [],
   "source": [
    "from sklearn.ensemble import GradientBoostingClassifier"
   ]
  },
  {
   "cell_type": "code",
   "execution_count": 69,
   "id": "1138cb2e",
   "metadata": {},
   "outputs": [],
   "source": [
    "gb_classifier = GradientBoostingClassifier(n_estimators=50)"
   ]
  },
  {
   "cell_type": "code",
   "execution_count": 70,
   "id": "b27190c6",
   "metadata": {},
   "outputs": [
    {
     "data": {
      "text/plain": [
       "GradientBoostingClassifier(n_estimators=50)"
      ]
     },
     "execution_count": 70,
     "metadata": {},
     "output_type": "execute_result"
    }
   ],
   "source": [
    "gb_classifier.fit(X_train,y_train)"
   ]
  },
  {
   "cell_type": "code",
   "execution_count": 72,
   "id": "d919a685",
   "metadata": {},
   "outputs": [],
   "source": [
    "y_predic_train = gb_classifier.predict(X_train)"
   ]
  },
  {
   "cell_type": "code",
   "execution_count": 73,
   "id": "65e64e8b",
   "metadata": {},
   "outputs": [
    {
     "name": "stdout",
     "output_type": "stream",
     "text": [
      "Accuracy score: 0.5085613462365557\n",
      "....................................................\n",
      "Confusion matrix:\n",
      " [[291910 332378]\n",
      " [281221 343068]]\n",
      "....................................................\n",
      "Classification Report:\n",
      "               precision    recall  f1-score   support\n",
      "\n",
      "           0       0.51      0.47      0.49    624288\n",
      "           1       0.51      0.55      0.53    624289\n",
      "\n",
      "    accuracy                           0.51   1248577\n",
      "   macro avg       0.51      0.51      0.51   1248577\n",
      "weighted avg       0.51      0.51      0.51   1248577\n",
      "\n"
     ]
    }
   ],
   "source": [
    "print('Accuracy score:',accuracy_score(y_train,y_predic_train))\n",
    "print('....................................................')\n",
    "print('Confusion matrix:\\n',confusion_matrix(y_train,y_predic_train))\n",
    "print('....................................................')\n",
    "print('Classification Report:\\n',classification_report(y_train,y_predic_train))"
   ]
  },
  {
   "cell_type": "code",
   "execution_count": 74,
   "id": "c4027b3b",
   "metadata": {},
   "outputs": [],
   "source": [
    "# for testing"
   ]
  },
  {
   "cell_type": "code",
   "execution_count": 76,
   "id": "53f14009",
   "metadata": {},
   "outputs": [],
   "source": [
    "y_predic_test = gb_classifier.predict(X_test)"
   ]
  },
  {
   "cell_type": "code",
   "execution_count": 77,
   "id": "7ba55ea8",
   "metadata": {},
   "outputs": [
    {
     "name": "stdout",
     "output_type": "stream",
     "text": [
      "Accuracy score: 0.5052267375738839\n",
      "....................................................\n",
      "Confusion matrix:\n",
      " [[72594 83479]\n",
      " [70962 85110]]\n",
      "....................................................\n",
      "Classification Report:\n",
      "               precision    recall  f1-score   support\n",
      "\n",
      "           0       0.51      0.47      0.48    156073\n",
      "           1       0.50      0.55      0.52    156072\n",
      "\n",
      "    accuracy                           0.51    312145\n",
      "   macro avg       0.51      0.51      0.50    312145\n",
      "weighted avg       0.51      0.51      0.50    312145\n",
      "\n"
     ]
    }
   ],
   "source": [
    "print('Accuracy score:',accuracy_score(y_test,y_predic_test))\n",
    "print('....................................................')\n",
    "print('Confusion matrix:\\n',confusion_matrix(y_test,y_predic_test))\n",
    "print('....................................................')\n",
    "print('Classification Report:\\n',classification_report(y_test,y_predic_test))"
   ]
  },
  {
   "cell_type": "code",
   "execution_count": 79,
   "id": "5d7cae2f",
   "metadata": {},
   "outputs": [
    {
     "name": "stdout",
     "output_type": "stream",
     "text": [
      "Area Under the Curve[AUC]:  0.5085613134210895\n"
     ]
    }
   ],
   "source": [
    "fpr, tpr, thresholds = roc_curve(y, gb_classifier.predict_proba (X)[:,1])\n",
    "\n",
    "auc = roc_auc_score(y_train,y_predic_train)\n",
    "print('Area Under the Curve[AUC]: ',auc)"
   ]
  },
  {
   "cell_type": "markdown",
   "id": "4b07221d",
   "metadata": {},
   "source": [
    "#  4.Extreme Gradient Boosting"
   ]
  },
  {
   "cell_type": "code",
   "execution_count": null,
   "id": "4d5a98ee",
   "metadata": {},
   "outputs": [],
   "source": [
    "# to control the overfitting problem"
   ]
  },
  {
   "cell_type": "code",
   "execution_count": 80,
   "id": "9dd65d99",
   "metadata": {},
   "outputs": [
    {
     "name": "stdout",
     "output_type": "stream",
     "text": [
      "Collecting xgboost\n",
      "  Downloading xgboost-1.6.0-py3-none-win_amd64.whl (126.1 MB)\n",
      "Requirement already satisfied: numpy in c:\\users\\user\\anaconda3\\lib\\site-packages (from xgboost) (1.20.3)\n",
      "Requirement already satisfied: scipy in c:\\users\\user\\anaconda3\\lib\\site-packages (from xgboost) (1.7.1)\n",
      "Installing collected packages: xgboost\n",
      "Successfully installed xgboost-1.6.0\n"
     ]
    }
   ],
   "source": [
    "!pip install xgboost"
   ]
  },
  {
   "cell_type": "code",
   "execution_count": 82,
   "id": "50bf7e43",
   "metadata": {},
   "outputs": [],
   "source": [
    "import xgboost as xgb\n",
    "from datetime import datetime"
   ]
  },
  {
   "cell_type": "code",
   "execution_count": null,
   "id": "57f77a7a",
   "metadata": {},
   "outputs": [],
   "source": []
  },
  {
   "cell_type": "code",
   "execution_count": 84,
   "id": "91527b21",
   "metadata": {},
   "outputs": [],
   "source": [
    "train_x_y = xgb.DMatrix(data = X_train , label = y_train)"
   ]
  },
  {
   "cell_type": "code",
   "execution_count": 132,
   "id": "3b146a86",
   "metadata": {},
   "outputs": [],
   "source": [
    "parameters = { 'max_depth':10,\n",
    "              'objective':'binary:logistic',\n",
    "              'eval_metric':'auc',\n",
    "              'learning_rate':.05,}"
   ]
  },
  {
   "cell_type": "code",
   "execution_count": 133,
   "id": "246bf217",
   "metadata": {},
   "outputs": [],
   "source": [
    "start_time = datetime.now()\n",
    "xgb_classifier = xgb.train(dtrain = train_x_y,params = parameters)\n",
    "end_time = datetime.now()"
   ]
  },
  {
   "cell_type": "code",
   "execution_count": 134,
   "id": "bd796a98",
   "metadata": {},
   "outputs": [
    {
     "name": "stdout",
     "output_type": "stream",
     "text": [
      "0:00:15.517515\n"
     ]
    }
   ],
   "source": [
    "execution_time = end_time - start_time\n",
    "print(execution_time)"
   ]
  },
  {
   "cell_type": "code",
   "execution_count": 100,
   "id": "cd2040cf",
   "metadata": {},
   "outputs": [],
   "source": [
    "# Training data"
   ]
  },
  {
   "cell_type": "code",
   "execution_count": 135,
   "id": "e94f10f7",
   "metadata": {},
   "outputs": [],
   "source": [
    "x_train_Dmatrix =xgb.DMatrix(X_train)\n"
   ]
  },
  {
   "cell_type": "code",
   "execution_count": 136,
   "id": "324702ed",
   "metadata": {},
   "outputs": [],
   "source": [
    "y_pred_train = xgb_classifier.predict(x_train_Dmatrix)"
   ]
  },
  {
   "cell_type": "code",
   "execution_count": 137,
   "id": "fdf88a99",
   "metadata": {},
   "outputs": [
    {
     "data": {
      "text/plain": [
       "(1248577,)"
      ]
     },
     "execution_count": 137,
     "metadata": {},
     "output_type": "execute_result"
    }
   ],
   "source": [
    "y_pred_train.shape"
   ]
  },
  {
   "cell_type": "code",
   "execution_count": 138,
   "id": "e62fcd2e",
   "metadata": {},
   "outputs": [],
   "source": [
    "for i in range(0,y_pred_train.shape[0]):\n",
    "    if y_pred_train[i]>=0.5:\n",
    "        y_pred_train[i] = 1\n",
    "    else:\n",
    "        y_pred_train[i] = 0"
   ]
  },
  {
   "cell_type": "code",
   "execution_count": 139,
   "id": "b9893181",
   "metadata": {},
   "outputs": [
    {
     "data": {
      "text/plain": [
       "array([1., 1., 1., ..., 1., 0., 0.], dtype=float32)"
      ]
     },
     "execution_count": 139,
     "metadata": {},
     "output_type": "execute_result"
    }
   ],
   "source": [
    "y_pred_train"
   ]
  },
  {
   "cell_type": "code",
   "execution_count": 140,
   "id": "260efc67",
   "metadata": {},
   "outputs": [
    {
     "name": "stdout",
     "output_type": "stream",
     "text": [
      "Accuracy score: 0.5236617365208553\n",
      "....................................................\n",
      "Confusion matrix:\n",
      " [[283325 340963]\n",
      " [253782 370507]]\n",
      "....................................................\n",
      "Classification Report:\n",
      "               precision    recall  f1-score   support\n",
      "\n",
      "           0       0.53      0.45      0.49    624288\n",
      "           1       0.52      0.59      0.55    624289\n",
      "\n",
      "    accuracy                           0.52   1248577\n",
      "   macro avg       0.52      0.52      0.52   1248577\n",
      "weighted avg       0.52      0.52      0.52   1248577\n",
      "\n"
     ]
    }
   ],
   "source": [
    "print('Accuracy score:',accuracy_score(y_train,y_pred_train))\n",
    "print('....................................................')\n",
    "print('Confusion matrix:\\n',confusion_matrix(y_train,y_pred_train))\n",
    "print('....................................................')\n",
    "print('Classification Report:\\n',classification_report(y_train,y_pred_train))"
   ]
  },
  {
   "cell_type": "code",
   "execution_count": 101,
   "id": "93caec30",
   "metadata": {},
   "outputs": [],
   "source": [
    "# Testing data"
   ]
  },
  {
   "cell_type": "code",
   "execution_count": 141,
   "id": "1ca2939c",
   "metadata": {},
   "outputs": [],
   "source": [
    "x_test_Dmatrix = xgb.DMatrix(X_test)"
   ]
  },
  {
   "cell_type": "code",
   "execution_count": 142,
   "id": "1f55c4f0",
   "metadata": {},
   "outputs": [],
   "source": [
    "y_test_predict = xgb_classifier.predict(x_test_Dmatrix)"
   ]
  },
  {
   "cell_type": "code",
   "execution_count": 143,
   "id": "168699bc",
   "metadata": {},
   "outputs": [
    {
     "data": {
      "text/plain": [
       "(312145,)"
      ]
     },
     "execution_count": 143,
     "metadata": {},
     "output_type": "execute_result"
    }
   ],
   "source": [
    "y_test_predict.shape"
   ]
  },
  {
   "cell_type": "code",
   "execution_count": 144,
   "id": "9cd20c29",
   "metadata": {},
   "outputs": [],
   "source": [
    "for i in range(0,y_test_predict.shape[0]):\n",
    "    if y_test_predict[i]>=0.5:\n",
    "        y_test_predict[i] = 1\n",
    "    else:\n",
    "        y_test_predict[i] = 0"
   ]
  },
  {
   "cell_type": "code",
   "execution_count": 145,
   "id": "8f287c82",
   "metadata": {},
   "outputs": [
    {
     "data": {
      "text/plain": [
       "array([1., 1., 1., ..., 1., 0., 1.], dtype=float32)"
      ]
     },
     "execution_count": 145,
     "metadata": {},
     "output_type": "execute_result"
    }
   ],
   "source": [
    "y_test_predict"
   ]
  },
  {
   "cell_type": "code",
   "execution_count": 146,
   "id": "3ee89382",
   "metadata": {},
   "outputs": [
    {
     "name": "stdout",
     "output_type": "stream",
     "text": [
      "Accuracy score: 0.5136875490557273\n",
      "....................................................\n",
      "Confusion matrix:\n",
      " [[69428 86645]\n",
      " [65155 90917]]\n",
      "....................................................\n",
      "Classification Report:\n",
      "               precision    recall  f1-score   support\n",
      "\n",
      "           0       0.52      0.44      0.48    156073\n",
      "           1       0.51      0.58      0.55    156072\n",
      "\n",
      "    accuracy                           0.51    312145\n",
      "   macro avg       0.51      0.51      0.51    312145\n",
      "weighted avg       0.51      0.51      0.51    312145\n",
      "\n"
     ]
    }
   ],
   "source": [
    "print('Accuracy score:',accuracy_score(y_test,y_test_predict))\n",
    "print('....................................................')\n",
    "print('Confusion matrix:\\n',confusion_matrix(y_test,y_test_predict))\n",
    "print('....................................................')\n",
    "print('Classification Report:\\n',classification_report(y_test,y_test_predict))"
   ]
  },
  {
   "cell_type": "code",
   "execution_count": 147,
   "id": "ba6e2e69",
   "metadata": {},
   "outputs": [
    {
     "name": "stdout",
     "output_type": "stream",
     "text": [
      "AUC Score       : 0.5136877696091603\n"
     ]
    }
   ],
   "source": [
    "print('AUC Score       :',roc_auc_score(y_test,y_test_predict))"
   ]
  },
  {
   "cell_type": "markdown",
   "id": "e3d70671",
   "metadata": {},
   "source": [
    "# 5. KNN Classification"
   ]
  },
  {
   "cell_type": "code",
   "execution_count": 148,
   "id": "bd2fb3f2",
   "metadata": {},
   "outputs": [],
   "source": [
    "from sklearn.neighbors import KNeighborsClassifier"
   ]
  },
  {
   "cell_type": "code",
   "execution_count": 151,
   "id": "953e3172",
   "metadata": {},
   "outputs": [
    {
     "data": {
      "text/plain": [
       "KNeighborsClassifier(n_neighbors=3)"
      ]
     },
     "execution_count": 151,
     "metadata": {},
     "output_type": "execute_result"
    }
   ],
   "source": [
    "knn_classifier = KNeighborsClassifier(n_neighbors = 3)\n",
    "knn_classifier.fit(X_train,y_train)"
   ]
  },
  {
   "cell_type": "code",
   "execution_count": 155,
   "id": "6c507abf",
   "metadata": {},
   "outputs": [],
   "source": [
    "# Training "
   ]
  },
  {
   "cell_type": "code",
   "execution_count": 156,
   "id": "fa077ef9",
   "metadata": {},
   "outputs": [
    {
     "data": {
      "text/plain": [
       "(1248577, 13)"
      ]
     },
     "execution_count": 156,
     "metadata": {},
     "output_type": "execute_result"
    }
   ],
   "source": [
    "X_train.shape"
   ]
  },
  {
   "cell_type": "code",
   "execution_count": 153,
   "id": "cd89ba46",
   "metadata": {},
   "outputs": [],
   "source": [
    "y_pre_train = knn_classifier.predict(X_train)"
   ]
  },
  {
   "cell_type": "code",
   "execution_count": 154,
   "id": "3d3f6e1f",
   "metadata": {},
   "outputs": [
    {
     "name": "stdout",
     "output_type": "stream",
     "text": [
      "Accuracy score: 0.8511137078450107\n",
      "....................................................\n",
      "Confusion matrix:\n",
      " [[589703  34585]\n",
      " [151311 472978]]\n",
      "....................................................\n",
      "Classification Report:\n",
      "               precision    recall  f1-score   support\n",
      "\n",
      "           0       0.80      0.94      0.86    624288\n",
      "           1       0.93      0.76      0.84    624289\n",
      "\n",
      "    accuracy                           0.85   1248577\n",
      "   macro avg       0.86      0.85      0.85   1248577\n",
      "weighted avg       0.86      0.85      0.85   1248577\n",
      "\n"
     ]
    }
   ],
   "source": [
    "print('Accuracy score:',accuracy_score(y_train,y_pre_train))\n",
    "print('....................................................')\n",
    "print('Confusion matrix:\\n',confusion_matrix(y_train,y_pre_train))\n",
    "print('....................................................')\n",
    "print('Classification Report:\\n',classification_report(y_train,y_pre_train))"
   ]
  },
  {
   "cell_type": "code",
   "execution_count": 160,
   "id": "1a333452",
   "metadata": {},
   "outputs": [],
   "source": [
    "# testing"
   ]
  },
  {
   "cell_type": "code",
   "execution_count": 158,
   "id": "51d0beaf",
   "metadata": {},
   "outputs": [],
   "source": [
    "y_pre_test = knn_classifier.predict(X_test)"
   ]
  },
  {
   "cell_type": "code",
   "execution_count": 159,
   "id": "6d70b75d",
   "metadata": {},
   "outputs": [
    {
     "name": "stdout",
     "output_type": "stream",
     "text": [
      "Accuracy score: 0.6920629835493121\n",
      "....................................................\n",
      "Confusion matrix:\n",
      " [[125908  30165]\n",
      " [ 65956  90116]]\n",
      "....................................................\n",
      "Classification Report:\n",
      "               precision    recall  f1-score   support\n",
      "\n",
      "           0       0.66      0.81      0.72    156073\n",
      "           1       0.75      0.58      0.65    156072\n",
      "\n",
      "    accuracy                           0.69    312145\n",
      "   macro avg       0.70      0.69      0.69    312145\n",
      "weighted avg       0.70      0.69      0.69    312145\n",
      "\n"
     ]
    }
   ],
   "source": [
    "print('Accuracy score:',accuracy_score(y_test,y_pre_test))\n",
    "print('....................................................')\n",
    "print('Confusion matrix:\\n',confusion_matrix(y_test,y_pre_test))\n",
    "print('....................................................')\n",
    "print('Classification Report:\\n',classification_report(y_test,y_pre_test))"
   ]
  },
  {
   "cell_type": "code",
   "execution_count": 165,
   "id": "a7de25f4",
   "metadata": {},
   "outputs": [
    {
     "name": "stdout",
     "output_type": "stream",
     "text": [
      "Area Under the Curve[AUC]:  0.6920626162122029\n"
     ]
    }
   ],
   "source": [
    "fpr, tpr, thresholds = roc_curve(y, knn_classifier.predict_proba (X)[:,1])\n",
    "\n",
    "auc = roc_auc_score(y_test,y_pre_test)\n",
    "print('Area Under the Curve[AUC]: ',auc)"
   ]
  },
  {
   "cell_type": "code",
   "execution_count": 166,
   "id": "231807a2",
   "metadata": {},
   "outputs": [
    {
     "data": {
      "text/plain": [
       "Text(0, 0.5, 'True Positive Rate')"
      ]
     },
     "execution_count": 166,
     "metadata": {},
     "output_type": "execute_result"
    },
    {
     "data": {
      "image/png": "[encoded data removed]",
      "text/plain": [
       "<Figure size 432x288 with 1 Axes>"
      ]
     },
     "metadata": {
      "needs_background": "light"
     },
     "output_type": "display_data"
    }
   ],
   "source": [
    "plt.plot(fpr, tpr, color='red', label='logit model ( area  = %0.2f)'%auc)\n",
    "plt.plot([0, 1], [0, 1], 'k--')\n",
    "plt.xlabel('False Positive Rate or [1 - True Negative Rate]')\n",
    "plt.ylabel('True Positive Rate')"
   ]
  },
  {
   "cell_type": "markdown",
   "id": "73cffaa7",
   "metadata": {},
   "source": [
    "# 6.SVM"
   ]
  },
  {
   "cell_type": "code",
   "execution_count": null,
   "id": "51ebd652",
   "metadata": {},
   "outputs": [],
   "source": [
    "from sklearn.svm import SVC"
   ]
  },
  {
   "cell_type": "code",
   "execution_count": null,
   "id": "8ed65047",
   "metadata": {},
   "outputs": [],
   "source": [
    "svc_classifier = SVC( kernel='rbf')\n",
    "svc_classifier.fit(X_train,y_train)"
   ]
  },
  {
   "cell_type": "code",
   "execution_count": null,
   "id": "15477081",
   "metadata": {},
   "outputs": [],
   "source": []
  },
  {
   "cell_type": "code",
   "execution_count": null,
   "id": "f36e18d0",
   "metadata": {},
   "outputs": [],
   "source": []
  },
  {
   "cell_type": "code",
   "execution_count": null,
   "id": "e2cabe6b",
   "metadata": {},
   "outputs": [],
   "source": []
  },
  {
   "cell_type": "code",
   "execution_count": null,
   "id": "4e2e645a",
   "metadata": {},
   "outputs": [],
   "source": []
  },
  {
   "cell_type": "code",
   "execution_count": null,
   "id": "cf19aee8",
   "metadata": {},
   "outputs": [],
   "source": []
  },
  {
   "cell_type": "code",
   "execution_count": null,
   "id": "6ab77dcc",
   "metadata": {},
   "outputs": [],
   "source": []
  },
  {
   "cell_type": "code",
   "execution_count": null,
   "id": "87960f43",
   "metadata": {},
   "outputs": [],
   "source": []
  },
  {
   "cell_type": "code",
   "execution_count": null,
   "id": "a2c40b9d",
   "metadata": {},
   "outputs": [],
   "source": []
  }
 ],
 "metadata": {
  "kernelspec": {
   "display_name": "Python 3 (ipykernel)",
   "language": "python",
   "name": "python3"
  },
  "language_info": {
   "codemirror_mode": {
    "name": "ipython",
    "version": 3
   },
   "file_extension": ".py",
   "mimetype": "text/x-python",
   "name": "python",
   "nbconvert_exporter": "python",
   "pygments_lexer": "ipython3",
   "version": "3.9.7"
  }
 },
 "nbformat": 4,
 "nbformat_minor": 5
}
