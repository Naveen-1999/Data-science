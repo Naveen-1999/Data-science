{
 "cells": [
  {
   "cell_type": "markdown",
   "id": "91600307",
   "metadata": {},
   "source": [
    "**objective: To predict the Fraudulent cases** "
   ]
  },
  {
   "cell_type": "markdown",
   "id": "d8de4603",
   "metadata": {},
   "source": [
    "# Import Necessary Libraries"
   ]
  },
  {
   "cell_type": "code",
   "execution_count": 1,
   "id": "1d5d5c4a",
   "metadata": {},
   "outputs": [],
   "source": [
    "import pandas as pd   # Data preprocessing\n",
    "import numpy as np    # For linear algebra(numerical python)"
   ]
  },
  {
   "cell_type": "markdown",
   "id": "a744bd6d",
   "metadata": {},
   "source": [
    "# Import Dataset"
   ]
  },
  {
   "cell_type": "code",
   "execution_count": 2,
   "id": "61e6cb41",
   "metadata": {},
   "outputs": [
    {
     "data": {
      "text/html": [
       "<div>\n",
       "<style scoped>\n",
       "    .dataframe tbody tr th:only-of-type {\n",
       "        vertical-align: middle;\n",
       "    }\n",
       "\n",
       "    .dataframe tbody tr th {\n",
       "        vertical-align: top;\n",
       "    }\n",
       "\n",
       "    .dataframe thead th {\n",
       "        text-align: right;\n",
       "    }\n",
       "</style>\n",
       "<table border=\"1\" class=\"dataframe\">\n",
       "  <thead>\n",
       "    <tr style=\"text-align: right;\">\n",
       "      <th></th>\n",
       "      <th>Area_Service</th>\n",
       "      <th>Hospital County</th>\n",
       "      <th>Hospital Id</th>\n",
       "      <th>Age</th>\n",
       "      <th>Gender</th>\n",
       "      <th>Cultural_group</th>\n",
       "      <th>ethnicity</th>\n",
       "      <th>Days_spend_hsptl</th>\n",
       "      <th>Admission_type</th>\n",
       "      <th>Home or self care,</th>\n",
       "      <th>...</th>\n",
       "      <th>Mortality risk</th>\n",
       "      <th>Surg_Description</th>\n",
       "      <th>Weight_baby</th>\n",
       "      <th>Abortion</th>\n",
       "      <th>Emergency dept_yes/No</th>\n",
       "      <th>Tot_charg</th>\n",
       "      <th>Tot_cost</th>\n",
       "      <th>ratio_of_total_costs_to_total_charges</th>\n",
       "      <th>Result</th>\n",
       "      <th>Payment_Typology</th>\n",
       "    </tr>\n",
       "  </thead>\n",
       "  <tbody>\n",
       "    <tr>\n",
       "      <th>0</th>\n",
       "      <td>Western NY</td>\n",
       "      <td>Allegany</td>\n",
       "      <td>37.0</td>\n",
       "      <td>30 to 49</td>\n",
       "      <td>F</td>\n",
       "      <td>White</td>\n",
       "      <td>Not Span/Hispanic</td>\n",
       "      <td>4</td>\n",
       "      <td>Elective</td>\n",
       "      <td>Home or Self Care</td>\n",
       "      <td>...</td>\n",
       "      <td>1.0</td>\n",
       "      <td>Medical</td>\n",
       "      <td>0</td>\n",
       "      <td>N</td>\n",
       "      <td>Y</td>\n",
       "      <td>5511.95</td>\n",
       "      <td>5582.49</td>\n",
       "      <td>1.012798</td>\n",
       "      <td>1</td>\n",
       "      <td>1</td>\n",
       "    </tr>\n",
       "    <tr>\n",
       "      <th>1</th>\n",
       "      <td>Western NY</td>\n",
       "      <td>Allegany</td>\n",
       "      <td>37.0</td>\n",
       "      <td>70 or Older</td>\n",
       "      <td>F</td>\n",
       "      <td>White</td>\n",
       "      <td>Not Span/Hispanic</td>\n",
       "      <td>4</td>\n",
       "      <td>Urgent</td>\n",
       "      <td>Short-term Hospital</td>\n",
       "      <td>...</td>\n",
       "      <td>2.0</td>\n",
       "      <td>Medical</td>\n",
       "      <td>0</td>\n",
       "      <td>N</td>\n",
       "      <td>Y</td>\n",
       "      <td>4783.20</td>\n",
       "      <td>5162.82</td>\n",
       "      <td>1.079365</td>\n",
       "      <td>1</td>\n",
       "      <td>1</td>\n",
       "    </tr>\n",
       "    <tr>\n",
       "      <th>2</th>\n",
       "      <td>Western NY</td>\n",
       "      <td>Allegany</td>\n",
       "      <td>37.0</td>\n",
       "      <td>30 to 49</td>\n",
       "      <td>F</td>\n",
       "      <td>White</td>\n",
       "      <td>Not Span/Hispanic</td>\n",
       "      <td>3</td>\n",
       "      <td>Urgent</td>\n",
       "      <td>Home or Self Care</td>\n",
       "      <td>...</td>\n",
       "      <td>1.0</td>\n",
       "      <td>Medical</td>\n",
       "      <td>0</td>\n",
       "      <td>N</td>\n",
       "      <td>Y</td>\n",
       "      <td>3829.15</td>\n",
       "      <td>4056.52</td>\n",
       "      <td>1.059379</td>\n",
       "      <td>1</td>\n",
       "      <td>1</td>\n",
       "    </tr>\n",
       "    <tr>\n",
       "      <th>3</th>\n",
       "      <td>Western NY</td>\n",
       "      <td>Allegany</td>\n",
       "      <td>37.0</td>\n",
       "      <td>0 to 17</td>\n",
       "      <td>F</td>\n",
       "      <td>White</td>\n",
       "      <td>Not Span/Hispanic</td>\n",
       "      <td>1</td>\n",
       "      <td>Urgent</td>\n",
       "      <td>Home or Self Care</td>\n",
       "      <td>...</td>\n",
       "      <td>1.0</td>\n",
       "      <td>Medical</td>\n",
       "      <td>0</td>\n",
       "      <td>N</td>\n",
       "      <td>Y</td>\n",
       "      <td>1108.20</td>\n",
       "      <td>1644.75</td>\n",
       "      <td>1.484167</td>\n",
       "      <td>0</td>\n",
       "      <td>1</td>\n",
       "    </tr>\n",
       "    <tr>\n",
       "      <th>4</th>\n",
       "      <td>Western NY</td>\n",
       "      <td>Allegany</td>\n",
       "      <td>37.0</td>\n",
       "      <td>70 or Older</td>\n",
       "      <td>F</td>\n",
       "      <td>White</td>\n",
       "      <td>Not Span/Hispanic</td>\n",
       "      <td>3</td>\n",
       "      <td>Elective</td>\n",
       "      <td>Home or Self Care</td>\n",
       "      <td>...</td>\n",
       "      <td>3.0</td>\n",
       "      <td>Medical</td>\n",
       "      <td>0</td>\n",
       "      <td>N</td>\n",
       "      <td>Y</td>\n",
       "      <td>3418.18</td>\n",
       "      <td>3370.87</td>\n",
       "      <td>0.986161</td>\n",
       "      <td>1</td>\n",
       "      <td>1</td>\n",
       "    </tr>\n",
       "  </tbody>\n",
       "</table>\n",
       "<p>5 rows × 24 columns</p>\n",
       "</div>"
      ],
      "text/plain": [
       "  Area_Service Hospital County  Hospital Id          Age Gender  \\\n",
       "0   Western NY        Allegany         37.0     30 to 49      F   \n",
       "1   Western NY        Allegany         37.0  70 or Older      F   \n",
       "2   Western NY        Allegany         37.0     30 to 49      F   \n",
       "3   Western NY        Allegany         37.0      0 to 17      F   \n",
       "4   Western NY        Allegany         37.0  70 or Older      F   \n",
       "\n",
       "  Cultural_group          ethnicity Days_spend_hsptl Admission_type  \\\n",
       "0          White  Not Span/Hispanic                4       Elective   \n",
       "1          White  Not Span/Hispanic                4         Urgent   \n",
       "2          White  Not Span/Hispanic                3         Urgent   \n",
       "3          White  Not Span/Hispanic                1         Urgent   \n",
       "4          White  Not Span/Hispanic                3       Elective   \n",
       "\n",
       "    Home or self care,  ...  Mortality risk  Surg_Description Weight_baby  \\\n",
       "0    Home or Self Care  ...             1.0           Medical           0   \n",
       "1  Short-term Hospital  ...             2.0           Medical           0   \n",
       "2    Home or Self Care  ...             1.0           Medical           0   \n",
       "3    Home or Self Care  ...             1.0           Medical           0   \n",
       "4    Home or Self Care  ...             3.0           Medical           0   \n",
       "\n",
       "   Abortion  Emergency dept_yes/No Tot_charg  Tot_cost  \\\n",
       "0         N                      Y   5511.95   5582.49   \n",
       "1         N                      Y   4783.20   5162.82   \n",
       "2         N                      Y   3829.15   4056.52   \n",
       "3         N                      Y   1108.20   1644.75   \n",
       "4         N                      Y   3418.18   3370.87   \n",
       "\n",
       "  ratio_of_total_costs_to_total_charges Result  Payment_Typology  \n",
       "0                              1.012798      1                 1  \n",
       "1                              1.079365      1                 1  \n",
       "2                              1.059379      1                 1  \n",
       "3                              1.484167      0                 1  \n",
       "4                              0.986161      1                 1  \n",
       "\n",
       "[5 rows x 24 columns]"
      ]
     },
     "execution_count": 2,
     "metadata": {},
     "output_type": "execute_result"
    }
   ],
   "source": [
    "insurance_data = pd.read_csv('insurance Dataset.csv')\n",
    "insurance_data.head()"
   ]
  },
  {
   "cell_type": "markdown",
   "id": "4ffcf7db",
   "metadata": {},
   "source": [
    "# Data Understanding\n",
    "\n",
    "## Intial Analysis"
   ]
  },
  {
   "cell_type": "code",
   "execution_count": 3,
   "id": "9c7b1e73",
   "metadata": {},
   "outputs": [
    {
     "data": {
      "text/plain": [
       "(1048575, 24)"
      ]
     },
     "execution_count": 3,
     "metadata": {},
     "output_type": "execute_result"
    }
   ],
   "source": [
    "insurance_data.shape"
   ]
  },
  {
   "cell_type": "code",
   "execution_count": 4,
   "id": "b4afe70a",
   "metadata": {},
   "outputs": [
    {
     "data": {
      "text/plain": [
       "Area_Service                              object\n",
       "Hospital County                           object\n",
       "Hospital Id                              float64\n",
       "Age                                       object\n",
       "Gender                                    object\n",
       "Cultural_group                            object\n",
       "ethnicity                                 object\n",
       "Days_spend_hsptl                          object\n",
       "Admission_type                            object\n",
       "Home or self care,                        object\n",
       "ccs_diagnosis_code                         int64\n",
       "ccs_procedure_code                         int64\n",
       "apr_drg_description                       object\n",
       "Code_illness                               int64\n",
       "Mortality risk                           float64\n",
       "Surg_Description                          object\n",
       "Weight_baby                                int64\n",
       "Abortion                                  object\n",
       "Emergency dept_yes/No                     object\n",
       "Tot_charg                                float64\n",
       "Tot_cost                                 float64\n",
       "ratio_of_total_costs_to_total_charges    float64\n",
       "Result                                     int64\n",
       "Payment_Typology                           int64\n",
       "dtype: object"
      ]
     },
     "execution_count": 4,
     "metadata": {},
     "output_type": "execute_result"
    }
   ],
   "source": [
    "insurance_data.dtypes"
   ]
  },
  {
   "cell_type": "code",
   "execution_count": 5,
   "id": "6d601ecc",
   "metadata": {},
   "outputs": [
    {
     "data": {
      "text/html": [
       "<div>\n",
       "<style scoped>\n",
       "    .dataframe tbody tr th:only-of-type {\n",
       "        vertical-align: middle;\n",
       "    }\n",
       "\n",
       "    .dataframe tbody tr th {\n",
       "        vertical-align: top;\n",
       "    }\n",
       "\n",
       "    .dataframe thead th {\n",
       "        text-align: right;\n",
       "    }\n",
       "</style>\n",
       "<table border=\"1\" class=\"dataframe\">\n",
       "  <thead>\n",
       "    <tr style=\"text-align: right;\">\n",
       "      <th></th>\n",
       "      <th>Area_Service</th>\n",
       "      <th>Hospital County</th>\n",
       "      <th>Hospital Id</th>\n",
       "      <th>Age</th>\n",
       "      <th>Gender</th>\n",
       "      <th>Cultural_group</th>\n",
       "      <th>ethnicity</th>\n",
       "      <th>Days_spend_hsptl</th>\n",
       "      <th>Admission_type</th>\n",
       "      <th>Home or self care,</th>\n",
       "      <th>ccs_diagnosis_code</th>\n",
       "      <th>ccs_procedure_code</th>\n",
       "      <th>apr_drg_description</th>\n",
       "      <th>Code_illness</th>\n",
       "      <th>Mortality risk</th>\n",
       "      <th>Surg_Description</th>\n",
       "      <th>Weight_baby</th>\n",
       "      <th>Abortion</th>\n",
       "      <th>Emergency dept_yes/No</th>\n",
       "      <th>Tot_charg</th>\n",
       "      <th>Tot_cost</th>\n",
       "      <th>ratio_of_total_costs_to_total_charges</th>\n",
       "      <th>Result</th>\n",
       "      <th>Payment_Typology</th>\n",
       "    </tr>\n",
       "  </thead>\n",
       "  <tbody>\n",
       "    <tr>\n",
       "      <th>0</th>\n",
       "      <td>Western NY</td>\n",
       "      <td>Allegany</td>\n",
       "      <td>37.0</td>\n",
       "      <td>30 to 49</td>\n",
       "      <td>F</td>\n",
       "      <td>White</td>\n",
       "      <td>Not Span/Hispanic</td>\n",
       "      <td>4</td>\n",
       "      <td>Elective</td>\n",
       "      <td>Home or Self Care</td>\n",
       "      <td>122</td>\n",
       "      <td>0</td>\n",
       "      <td>Other pneumonia</td>\n",
       "      <td>1</td>\n",
       "      <td>1.0</td>\n",
       "      <td>Medical</td>\n",
       "      <td>0</td>\n",
       "      <td>N</td>\n",
       "      <td>Y</td>\n",
       "      <td>5511.95</td>\n",
       "      <td>5582.49</td>\n",
       "      <td>1.012798</td>\n",
       "      <td>1</td>\n",
       "      <td>1</td>\n",
       "    </tr>\n",
       "    <tr>\n",
       "      <th>1</th>\n",
       "      <td>Western NY</td>\n",
       "      <td>Allegany</td>\n",
       "      <td>37.0</td>\n",
       "      <td>70 or Older</td>\n",
       "      <td>F</td>\n",
       "      <td>White</td>\n",
       "      <td>Not Span/Hispanic</td>\n",
       "      <td>4</td>\n",
       "      <td>Urgent</td>\n",
       "      <td>Short-term Hospital</td>\n",
       "      <td>197</td>\n",
       "      <td>0</td>\n",
       "      <td>Cellulitis &amp; other skin infections</td>\n",
       "      <td>3</td>\n",
       "      <td>2.0</td>\n",
       "      <td>Medical</td>\n",
       "      <td>0</td>\n",
       "      <td>N</td>\n",
       "      <td>Y</td>\n",
       "      <td>4783.20</td>\n",
       "      <td>5162.82</td>\n",
       "      <td>1.079365</td>\n",
       "      <td>1</td>\n",
       "      <td>1</td>\n",
       "    </tr>\n",
       "    <tr>\n",
       "      <th>2</th>\n",
       "      <td>Western NY</td>\n",
       "      <td>Allegany</td>\n",
       "      <td>37.0</td>\n",
       "      <td>30 to 49</td>\n",
       "      <td>F</td>\n",
       "      <td>White</td>\n",
       "      <td>Not Span/Hispanic</td>\n",
       "      <td>3</td>\n",
       "      <td>Urgent</td>\n",
       "      <td>Home or Self Care</td>\n",
       "      <td>122</td>\n",
       "      <td>0</td>\n",
       "      <td>Other pneumonia</td>\n",
       "      <td>1</td>\n",
       "      <td>1.0</td>\n",
       "      <td>Medical</td>\n",
       "      <td>0</td>\n",
       "      <td>N</td>\n",
       "      <td>Y</td>\n",
       "      <td>3829.15</td>\n",
       "      <td>4056.52</td>\n",
       "      <td>1.059379</td>\n",
       "      <td>1</td>\n",
       "      <td>1</td>\n",
       "    </tr>\n",
       "    <tr>\n",
       "      <th>3</th>\n",
       "      <td>Western NY</td>\n",
       "      <td>Allegany</td>\n",
       "      <td>37.0</td>\n",
       "      <td>0 to 17</td>\n",
       "      <td>F</td>\n",
       "      <td>White</td>\n",
       "      <td>Not Span/Hispanic</td>\n",
       "      <td>1</td>\n",
       "      <td>Urgent</td>\n",
       "      <td>Home or Self Care</td>\n",
       "      <td>122</td>\n",
       "      <td>0</td>\n",
       "      <td>Other pneumonia</td>\n",
       "      <td>1</td>\n",
       "      <td>1.0</td>\n",
       "      <td>Medical</td>\n",
       "      <td>0</td>\n",
       "      <td>N</td>\n",
       "      <td>Y</td>\n",
       "      <td>1108.20</td>\n",
       "      <td>1644.75</td>\n",
       "      <td>1.484167</td>\n",
       "      <td>0</td>\n",
       "      <td>1</td>\n",
       "    </tr>\n",
       "    <tr>\n",
       "      <th>4</th>\n",
       "      <td>Western NY</td>\n",
       "      <td>Allegany</td>\n",
       "      <td>37.0</td>\n",
       "      <td>70 or Older</td>\n",
       "      <td>F</td>\n",
       "      <td>White</td>\n",
       "      <td>Not Span/Hispanic</td>\n",
       "      <td>3</td>\n",
       "      <td>Elective</td>\n",
       "      <td>Home or Self Care</td>\n",
       "      <td>122</td>\n",
       "      <td>0</td>\n",
       "      <td>Other pneumonia</td>\n",
       "      <td>2</td>\n",
       "      <td>3.0</td>\n",
       "      <td>Medical</td>\n",
       "      <td>0</td>\n",
       "      <td>N</td>\n",
       "      <td>Y</td>\n",
       "      <td>3418.18</td>\n",
       "      <td>3370.87</td>\n",
       "      <td>0.986161</td>\n",
       "      <td>1</td>\n",
       "      <td>1</td>\n",
       "    </tr>\n",
       "  </tbody>\n",
       "</table>\n",
       "</div>"
      ],
      "text/plain": [
       "  Area_Service Hospital County  Hospital Id          Age Gender  \\\n",
       "0   Western NY        Allegany         37.0     30 to 49      F   \n",
       "1   Western NY        Allegany         37.0  70 or Older      F   \n",
       "2   Western NY        Allegany         37.0     30 to 49      F   \n",
       "3   Western NY        Allegany         37.0      0 to 17      F   \n",
       "4   Western NY        Allegany         37.0  70 or Older      F   \n",
       "\n",
       "  Cultural_group          ethnicity Days_spend_hsptl Admission_type  \\\n",
       "0          White  Not Span/Hispanic                4       Elective   \n",
       "1          White  Not Span/Hispanic                4         Urgent   \n",
       "2          White  Not Span/Hispanic                3         Urgent   \n",
       "3          White  Not Span/Hispanic                1         Urgent   \n",
       "4          White  Not Span/Hispanic                3       Elective   \n",
       "\n",
       "    Home or self care,  ccs_diagnosis_code  ccs_procedure_code  \\\n",
       "0    Home or Self Care                 122                   0   \n",
       "1  Short-term Hospital                 197                   0   \n",
       "2    Home or Self Care                 122                   0   \n",
       "3    Home or Self Care                 122                   0   \n",
       "4    Home or Self Care                 122                   0   \n",
       "\n",
       "                  apr_drg_description  Code_illness  Mortality risk  \\\n",
       "0                     Other pneumonia             1             1.0   \n",
       "1  Cellulitis & other skin infections             3             2.0   \n",
       "2                     Other pneumonia             1             1.0   \n",
       "3                     Other pneumonia             1             1.0   \n",
       "4                     Other pneumonia             2             3.0   \n",
       "\n",
       "  Surg_Description  Weight_baby Abortion Emergency dept_yes/No  Tot_charg  \\\n",
       "0          Medical            0        N                     Y    5511.95   \n",
       "1          Medical            0        N                     Y    4783.20   \n",
       "2          Medical            0        N                     Y    3829.15   \n",
       "3          Medical            0        N                     Y    1108.20   \n",
       "4          Medical            0        N                     Y    3418.18   \n",
       "\n",
       "   Tot_cost  ratio_of_total_costs_to_total_charges  Result  Payment_Typology  \n",
       "0   5582.49                               1.012798       1                 1  \n",
       "1   5162.82                               1.079365       1                 1  \n",
       "2   4056.52                               1.059379       1                 1  \n",
       "3   1644.75                               1.484167       0                 1  \n",
       "4   3370.87                               0.986161       1                 1  "
      ]
     },
     "execution_count": 5,
     "metadata": {},
     "output_type": "execute_result"
    }
   ],
   "source": [
    "pd.set_option('max_columns',None)\n",
    "insurance_data.head()"
   ]
  },
  {
   "cell_type": "code",
   "execution_count": 6,
   "id": "592f32f8",
   "metadata": {},
   "outputs": [
    {
     "data": {
      "text/plain": [
       "Area_Service                             2456\n",
       "Hospital County                          2456\n",
       "Hospital Id                              2456\n",
       "Age                                         0\n",
       "Gender                                      0\n",
       "Cultural_group                              0\n",
       "ethnicity                                   0\n",
       "Days_spend_hsptl                            0\n",
       "Admission_type                              0\n",
       "Home or self care,                          0\n",
       "ccs_diagnosis_code                          0\n",
       "ccs_procedure_code                          0\n",
       "apr_drg_description                         0\n",
       "Code_illness                                0\n",
       "Mortality risk                             42\n",
       "Surg_Description                            0\n",
       "Weight_baby                                 0\n",
       "Abortion                                    0\n",
       "Emergency dept_yes/No                       0\n",
       "Tot_charg                                   0\n",
       "Tot_cost                                    0\n",
       "ratio_of_total_costs_to_total_charges       0\n",
       "Result                                      0\n",
       "Payment_Typology                            0\n",
       "dtype: int64"
      ]
     },
     "execution_count": 6,
     "metadata": {},
     "output_type": "execute_result"
    }
   ],
   "source": [
    "insurance_data.isna().sum()"
   ]
  },
  {
   "cell_type": "code",
   "execution_count": 7,
   "id": "47fd1808",
   "metadata": {},
   "outputs": [
    {
     "name": "stdout",
     "output_type": "stream",
     "text": [
      "<class 'pandas.core.frame.DataFrame'>\n",
      "RangeIndex: 1048575 entries, 0 to 1048574\n",
      "Data columns (total 24 columns):\n",
      " #   Column                                 Non-Null Count    Dtype  \n",
      "---  ------                                 --------------    -----  \n",
      " 0   Area_Service                           1046119 non-null  object \n",
      " 1   Hospital County                        1046119 non-null  object \n",
      " 2   Hospital Id                            1046119 non-null  float64\n",
      " 3   Age                                    1048575 non-null  object \n",
      " 4   Gender                                 1048575 non-null  object \n",
      " 5   Cultural_group                         1048575 non-null  object \n",
      " 6   ethnicity                              1048575 non-null  object \n",
      " 7   Days_spend_hsptl                       1048575 non-null  object \n",
      " 8   Admission_type                         1048575 non-null  object \n",
      " 9   Home or self care,                     1048575 non-null  object \n",
      " 10  ccs_diagnosis_code                     1048575 non-null  int64  \n",
      " 11  ccs_procedure_code                     1048575 non-null  int64  \n",
      " 12  apr_drg_description                    1048575 non-null  object \n",
      " 13  Code_illness                           1048575 non-null  int64  \n",
      " 14  Mortality risk                         1048533 non-null  float64\n",
      " 15  Surg_Description                       1048575 non-null  object \n",
      " 16  Weight_baby                            1048575 non-null  int64  \n",
      " 17  Abortion                               1048575 non-null  object \n",
      " 18  Emergency dept_yes/No                  1048575 non-null  object \n",
      " 19  Tot_charg                              1048575 non-null  float64\n",
      " 20  Tot_cost                               1048575 non-null  float64\n",
      " 21  ratio_of_total_costs_to_total_charges  1048575 non-null  float64\n",
      " 22  Result                                 1048575 non-null  int64  \n",
      " 23  Payment_Typology                       1048575 non-null  int64  \n",
      "dtypes: float64(5), int64(6), object(13)\n",
      "memory usage: 192.0+ MB\n"
     ]
    }
   ],
   "source": [
    "insurance_data.info()"
   ]
  },
  {
   "cell_type": "code",
   "execution_count": 8,
   "id": "815fd8f3",
   "metadata": {},
   "outputs": [
    {
     "data": {
      "text/plain": [
       "Index(['Area_Service', 'Hospital County', 'Hospital Id', 'Age', 'Gender',\n",
       "       'Cultural_group', 'ethnicity', 'Days_spend_hsptl', 'Admission_type',\n",
       "       'Home or self care,', 'ccs_diagnosis_code', 'ccs_procedure_code',\n",
       "       'apr_drg_description', 'Code_illness', 'Mortality risk',\n",
       "       'Surg_Description', 'Weight_baby', 'Abortion', 'Emergency dept_yes/No',\n",
       "       'Tot_charg', 'Tot_cost', 'ratio_of_total_costs_to_total_charges',\n",
       "       'Result', 'Payment_Typology'],\n",
       "      dtype='object')"
      ]
     },
     "execution_count": 8,
     "metadata": {},
     "output_type": "execute_result"
    }
   ],
   "source": [
    "insurance_data.columns"
   ]
  },
  {
   "cell_type": "code",
   "execution_count": 9,
   "id": "5283f110",
   "metadata": {},
   "outputs": [
    {
     "data": {
      "text/html": [
       "<div>\n",
       "<style scoped>\n",
       "    .dataframe tbody tr th:only-of-type {\n",
       "        vertical-align: middle;\n",
       "    }\n",
       "\n",
       "    .dataframe tbody tr th {\n",
       "        vertical-align: top;\n",
       "    }\n",
       "\n",
       "    .dataframe thead th {\n",
       "        text-align: right;\n",
       "    }\n",
       "</style>\n",
       "<table border=\"1\" class=\"dataframe\">\n",
       "  <thead>\n",
       "    <tr style=\"text-align: right;\">\n",
       "      <th></th>\n",
       "      <th>Area_Service</th>\n",
       "      <th>Hospital County</th>\n",
       "      <th>Hospital Id</th>\n",
       "      <th>Age</th>\n",
       "      <th>Gender</th>\n",
       "      <th>Cultural_group</th>\n",
       "      <th>ethnicity</th>\n",
       "      <th>Days_spend_hsptl</th>\n",
       "      <th>Admission_type</th>\n",
       "      <th>Home or self care,</th>\n",
       "      <th>ccs_diagnosis_code</th>\n",
       "      <th>ccs_procedure_code</th>\n",
       "      <th>apr_drg_description</th>\n",
       "      <th>Code_illness</th>\n",
       "      <th>Mortality risk</th>\n",
       "      <th>Surg_Description</th>\n",
       "      <th>Weight_baby</th>\n",
       "      <th>Abortion</th>\n",
       "      <th>Emergency dept_yes/No</th>\n",
       "      <th>Tot_charg</th>\n",
       "      <th>Tot_cost</th>\n",
       "      <th>ratio_of_total_costs_to_total_charges</th>\n",
       "      <th>Result</th>\n",
       "      <th>Payment_Typology</th>\n",
       "    </tr>\n",
       "  </thead>\n",
       "  <tbody>\n",
       "    <tr>\n",
       "      <th>count</th>\n",
       "      <td>1046119</td>\n",
       "      <td>1046119</td>\n",
       "      <td>1.046119e+06</td>\n",
       "      <td>1048575</td>\n",
       "      <td>1048575</td>\n",
       "      <td>1048575</td>\n",
       "      <td>1048575</td>\n",
       "      <td>1048575</td>\n",
       "      <td>1048575</td>\n",
       "      <td>1048575</td>\n",
       "      <td>1.048575e+06</td>\n",
       "      <td>1.048575e+06</td>\n",
       "      <td>1048575</td>\n",
       "      <td>1.048575e+06</td>\n",
       "      <td>1.048533e+06</td>\n",
       "      <td>1048575</td>\n",
       "      <td>1.048575e+06</td>\n",
       "      <td>1048575</td>\n",
       "      <td>1048575</td>\n",
       "      <td>1.048575e+06</td>\n",
       "      <td>1.048575e+06</td>\n",
       "      <td>1.048575e+06</td>\n",
       "      <td>1.048575e+06</td>\n",
       "      <td>1.048575e+06</td>\n",
       "    </tr>\n",
       "    <tr>\n",
       "      <th>unique</th>\n",
       "      <td>7</td>\n",
       "      <td>51</td>\n",
       "      <td>NaN</td>\n",
       "      <td>5</td>\n",
       "      <td>3</td>\n",
       "      <td>4</td>\n",
       "      <td>3</td>\n",
       "      <td>120</td>\n",
       "      <td>6</td>\n",
       "      <td>19</td>\n",
       "      <td>NaN</td>\n",
       "      <td>NaN</td>\n",
       "      <td>316</td>\n",
       "      <td>NaN</td>\n",
       "      <td>NaN</td>\n",
       "      <td>3</td>\n",
       "      <td>NaN</td>\n",
       "      <td>2</td>\n",
       "      <td>2</td>\n",
       "      <td>NaN</td>\n",
       "      <td>NaN</td>\n",
       "      <td>NaN</td>\n",
       "      <td>NaN</td>\n",
       "      <td>NaN</td>\n",
       "    </tr>\n",
       "    <tr>\n",
       "      <th>top</th>\n",
       "      <td>Hudson Valley</td>\n",
       "      <td>Erie</td>\n",
       "      <td>NaN</td>\n",
       "      <td>70 or Older</td>\n",
       "      <td>F</td>\n",
       "      <td>White</td>\n",
       "      <td>Not Span/Hispanic</td>\n",
       "      <td>2</td>\n",
       "      <td>Emergency</td>\n",
       "      <td>Home or Self Care</td>\n",
       "      <td>NaN</td>\n",
       "      <td>NaN</td>\n",
       "      <td>Neonate birthwt &gt;2499g, normal newborn or neon...</td>\n",
       "      <td>NaN</td>\n",
       "      <td>NaN</td>\n",
       "      <td>Medical</td>\n",
       "      <td>NaN</td>\n",
       "      <td>N</td>\n",
       "      <td>Y</td>\n",
       "      <td>NaN</td>\n",
       "      <td>NaN</td>\n",
       "      <td>NaN</td>\n",
       "      <td>NaN</td>\n",
       "      <td>NaN</td>\n",
       "    </tr>\n",
       "    <tr>\n",
       "      <th>freq</th>\n",
       "      <td>261074</td>\n",
       "      <td>129242</td>\n",
       "      <td>NaN</td>\n",
       "      <td>306017</td>\n",
       "      <td>593506</td>\n",
       "      <td>781658</td>\n",
       "      <td>910555</td>\n",
       "      <td>236538</td>\n",
       "      <td>608595</td>\n",
       "      <td>694841</td>\n",
       "      <td>NaN</td>\n",
       "      <td>NaN</td>\n",
       "      <td>80169</td>\n",
       "      <td>NaN</td>\n",
       "      <td>NaN</td>\n",
       "      <td>805729</td>\n",
       "      <td>NaN</td>\n",
       "      <td>1047110</td>\n",
       "      <td>589954</td>\n",
       "      <td>NaN</td>\n",
       "      <td>NaN</td>\n",
       "      <td>NaN</td>\n",
       "      <td>NaN</td>\n",
       "      <td>NaN</td>\n",
       "    </tr>\n",
       "    <tr>\n",
       "      <th>mean</th>\n",
       "      <td>NaN</td>\n",
       "      <td>NaN</td>\n",
       "      <td>6.529400e+02</td>\n",
       "      <td>NaN</td>\n",
       "      <td>NaN</td>\n",
       "      <td>NaN</td>\n",
       "      <td>NaN</td>\n",
       "      <td>NaN</td>\n",
       "      <td>NaN</td>\n",
       "      <td>NaN</td>\n",
       "      <td>1.987936e+02</td>\n",
       "      <td>9.723249e+01</td>\n",
       "      <td>NaN</td>\n",
       "      <td>2.051806e+00</td>\n",
       "      <td>1.748955e+00</td>\n",
       "      <td>NaN</td>\n",
       "      <td>2.935512e+02</td>\n",
       "      <td>NaN</td>\n",
       "      <td>NaN</td>\n",
       "      <td>2.708697e+04</td>\n",
       "      <td>1.046399e+04</td>\n",
       "      <td>4.565822e-01</td>\n",
       "      <td>7.499769e-01</td>\n",
       "      <td>1.935755e+00</td>\n",
       "    </tr>\n",
       "    <tr>\n",
       "      <th>std</th>\n",
       "      <td>NaN</td>\n",
       "      <td>NaN</td>\n",
       "      <td>6.711577e+02</td>\n",
       "      <td>NaN</td>\n",
       "      <td>NaN</td>\n",
       "      <td>NaN</td>\n",
       "      <td>NaN</td>\n",
       "      <td>NaN</td>\n",
       "      <td>NaN</td>\n",
       "      <td>NaN</td>\n",
       "      <td>1.652839e+02</td>\n",
       "      <td>8.732697e+01</td>\n",
       "      <td>NaN</td>\n",
       "      <td>9.145785e-01</td>\n",
       "      <td>9.864236e-01</td>\n",
       "      <td>NaN</td>\n",
       "      <td>9.494631e+02</td>\n",
       "      <td>NaN</td>\n",
       "      <td>NaN</td>\n",
       "      <td>5.487428e+04</td>\n",
       "      <td>2.230366e+04</td>\n",
       "      <td>8.029246e-01</td>\n",
       "      <td>4.330263e-01</td>\n",
       "      <td>7.717916e-01</td>\n",
       "    </tr>\n",
       "    <tr>\n",
       "      <th>min</th>\n",
       "      <td>NaN</td>\n",
       "      <td>NaN</td>\n",
       "      <td>1.000000e+00</td>\n",
       "      <td>NaN</td>\n",
       "      <td>NaN</td>\n",
       "      <td>NaN</td>\n",
       "      <td>NaN</td>\n",
       "      <td>NaN</td>\n",
       "      <td>NaN</td>\n",
       "      <td>NaN</td>\n",
       "      <td>1.000000e+00</td>\n",
       "      <td>0.000000e+00</td>\n",
       "      <td>NaN</td>\n",
       "      <td>0.000000e+00</td>\n",
       "      <td>1.000000e+00</td>\n",
       "      <td>NaN</td>\n",
       "      <td>0.000000e+00</td>\n",
       "      <td>NaN</td>\n",
       "      <td>NaN</td>\n",
       "      <td>3.100000e-01</td>\n",
       "      <td>1.000000e-01</td>\n",
       "      <td>3.312909e-02</td>\n",
       "      <td>0.000000e+00</td>\n",
       "      <td>1.000000e+00</td>\n",
       "    </tr>\n",
       "    <tr>\n",
       "      <th>25%</th>\n",
       "      <td>NaN</td>\n",
       "      <td>NaN</td>\n",
       "      <td>2.130000e+02</td>\n",
       "      <td>NaN</td>\n",
       "      <td>NaN</td>\n",
       "      <td>NaN</td>\n",
       "      <td>NaN</td>\n",
       "      <td>NaN</td>\n",
       "      <td>NaN</td>\n",
       "      <td>NaN</td>\n",
       "      <td>1.080000e+02</td>\n",
       "      <td>0.000000e+00</td>\n",
       "      <td>NaN</td>\n",
       "      <td>1.000000e+00</td>\n",
       "      <td>1.000000e+00</td>\n",
       "      <td>NaN</td>\n",
       "      <td>0.000000e+00</td>\n",
       "      <td>NaN</td>\n",
       "      <td>NaN</td>\n",
       "      <td>7.402500e+03</td>\n",
       "      <td>3.234570e+03</td>\n",
       "      <td>3.135802e-01</td>\n",
       "      <td>0.000000e+00</td>\n",
       "      <td>1.000000e+00</td>\n",
       "    </tr>\n",
       "    <tr>\n",
       "      <th>50%</th>\n",
       "      <td>NaN</td>\n",
       "      <td>NaN</td>\n",
       "      <td>6.300000e+02</td>\n",
       "      <td>NaN</td>\n",
       "      <td>NaN</td>\n",
       "      <td>NaN</td>\n",
       "      <td>NaN</td>\n",
       "      <td>NaN</td>\n",
       "      <td>NaN</td>\n",
       "      <td>NaN</td>\n",
       "      <td>1.590000e+02</td>\n",
       "      <td>9.000000e+01</td>\n",
       "      <td>NaN</td>\n",
       "      <td>2.000000e+00</td>\n",
       "      <td>1.000000e+00</td>\n",
       "      <td>NaN</td>\n",
       "      <td>0.000000e+00</td>\n",
       "      <td>NaN</td>\n",
       "      <td>NaN</td>\n",
       "      <td>1.458988e+04</td>\n",
       "      <td>5.928480e+03</td>\n",
       "      <td>4.091384e-01</td>\n",
       "      <td>1.000000e+00</td>\n",
       "      <td>2.000000e+00</td>\n",
       "    </tr>\n",
       "    <tr>\n",
       "      <th>75%</th>\n",
       "      <td>NaN</td>\n",
       "      <td>NaN</td>\n",
       "      <td>9.770000e+02</td>\n",
       "      <td>NaN</td>\n",
       "      <td>NaN</td>\n",
       "      <td>NaN</td>\n",
       "      <td>NaN</td>\n",
       "      <td>NaN</td>\n",
       "      <td>NaN</td>\n",
       "      <td>NaN</td>\n",
       "      <td>2.180000e+02</td>\n",
       "      <td>1.740000e+02</td>\n",
       "      <td>NaN</td>\n",
       "      <td>3.000000e+00</td>\n",
       "      <td>3.000000e+00</td>\n",
       "      <td>NaN</td>\n",
       "      <td>0.000000e+00</td>\n",
       "      <td>NaN</td>\n",
       "      <td>NaN</td>\n",
       "      <td>2.914547e+04</td>\n",
       "      <td>1.134317e+04</td>\n",
       "      <td>5.192548e-01</td>\n",
       "      <td>1.000000e+00</td>\n",
       "      <td>3.000000e+00</td>\n",
       "    </tr>\n",
       "    <tr>\n",
       "      <th>max</th>\n",
       "      <td>NaN</td>\n",
       "      <td>NaN</td>\n",
       "      <td>9.250000e+03</td>\n",
       "      <td>NaN</td>\n",
       "      <td>NaN</td>\n",
       "      <td>NaN</td>\n",
       "      <td>NaN</td>\n",
       "      <td>NaN</td>\n",
       "      <td>NaN</td>\n",
       "      <td>NaN</td>\n",
       "      <td>6.700000e+02</td>\n",
       "      <td>2.310000e+02</td>\n",
       "      <td>NaN</td>\n",
       "      <td>4.000000e+00</td>\n",
       "      <td>4.000000e+00</td>\n",
       "      <td>NaN</td>\n",
       "      <td>9.000000e+03</td>\n",
       "      <td>NaN</td>\n",
       "      <td>NaN</td>\n",
       "      <td>6.196974e+06</td>\n",
       "      <td>2.562478e+06</td>\n",
       "      <td>1.575596e+02</td>\n",
       "      <td>1.000000e+00</td>\n",
       "      <td>5.000000e+00</td>\n",
       "    </tr>\n",
       "  </tbody>\n",
       "</table>\n",
       "</div>"
      ],
      "text/plain": [
       "         Area_Service Hospital County   Hospital Id          Age   Gender  \\\n",
       "count         1046119         1046119  1.046119e+06      1048575  1048575   \n",
       "unique              7              51           NaN            5        3   \n",
       "top     Hudson Valley            Erie           NaN  70 or Older        F   \n",
       "freq           261074          129242           NaN       306017   593506   \n",
       "mean              NaN             NaN  6.529400e+02          NaN      NaN   \n",
       "std               NaN             NaN  6.711577e+02          NaN      NaN   \n",
       "min               NaN             NaN  1.000000e+00          NaN      NaN   \n",
       "25%               NaN             NaN  2.130000e+02          NaN      NaN   \n",
       "50%               NaN             NaN  6.300000e+02          NaN      NaN   \n",
       "75%               NaN             NaN  9.770000e+02          NaN      NaN   \n",
       "max               NaN             NaN  9.250000e+03          NaN      NaN   \n",
       "\n",
       "       Cultural_group          ethnicity Days_spend_hsptl Admission_type  \\\n",
       "count         1048575            1048575          1048575        1048575   \n",
       "unique              4                  3              120              6   \n",
       "top             White  Not Span/Hispanic                2      Emergency   \n",
       "freq           781658             910555           236538         608595   \n",
       "mean              NaN                NaN              NaN            NaN   \n",
       "std               NaN                NaN              NaN            NaN   \n",
       "min               NaN                NaN              NaN            NaN   \n",
       "25%               NaN                NaN              NaN            NaN   \n",
       "50%               NaN                NaN              NaN            NaN   \n",
       "75%               NaN                NaN              NaN            NaN   \n",
       "max               NaN                NaN              NaN            NaN   \n",
       "\n",
       "       Home or self care,  ccs_diagnosis_code  ccs_procedure_code  \\\n",
       "count             1048575        1.048575e+06        1.048575e+06   \n",
       "unique                 19                 NaN                 NaN   \n",
       "top     Home or Self Care                 NaN                 NaN   \n",
       "freq               694841                 NaN                 NaN   \n",
       "mean                  NaN        1.987936e+02        9.723249e+01   \n",
       "std                   NaN        1.652839e+02        8.732697e+01   \n",
       "min                   NaN        1.000000e+00        0.000000e+00   \n",
       "25%                   NaN        1.080000e+02        0.000000e+00   \n",
       "50%                   NaN        1.590000e+02        9.000000e+01   \n",
       "75%                   NaN        2.180000e+02        1.740000e+02   \n",
       "max                   NaN        6.700000e+02        2.310000e+02   \n",
       "\n",
       "                                      apr_drg_description  Code_illness  \\\n",
       "count                                             1048575  1.048575e+06   \n",
       "unique                                                316           NaN   \n",
       "top     Neonate birthwt >2499g, normal newborn or neon...           NaN   \n",
       "freq                                                80169           NaN   \n",
       "mean                                                  NaN  2.051806e+00   \n",
       "std                                                   NaN  9.145785e-01   \n",
       "min                                                   NaN  0.000000e+00   \n",
       "25%                                                   NaN  1.000000e+00   \n",
       "50%                                                   NaN  2.000000e+00   \n",
       "75%                                                   NaN  3.000000e+00   \n",
       "max                                                   NaN  4.000000e+00   \n",
       "\n",
       "        Mortality risk Surg_Description   Weight_baby Abortion  \\\n",
       "count     1.048533e+06          1048575  1.048575e+06  1048575   \n",
       "unique             NaN                3           NaN        2   \n",
       "top                NaN          Medical           NaN        N   \n",
       "freq               NaN           805729           NaN  1047110   \n",
       "mean      1.748955e+00              NaN  2.935512e+02      NaN   \n",
       "std       9.864236e-01              NaN  9.494631e+02      NaN   \n",
       "min       1.000000e+00              NaN  0.000000e+00      NaN   \n",
       "25%       1.000000e+00              NaN  0.000000e+00      NaN   \n",
       "50%       1.000000e+00              NaN  0.000000e+00      NaN   \n",
       "75%       3.000000e+00              NaN  0.000000e+00      NaN   \n",
       "max       4.000000e+00              NaN  9.000000e+03      NaN   \n",
       "\n",
       "       Emergency dept_yes/No     Tot_charg      Tot_cost  \\\n",
       "count                1048575  1.048575e+06  1.048575e+06   \n",
       "unique                     2           NaN           NaN   \n",
       "top                        Y           NaN           NaN   \n",
       "freq                  589954           NaN           NaN   \n",
       "mean                     NaN  2.708697e+04  1.046399e+04   \n",
       "std                      NaN  5.487428e+04  2.230366e+04   \n",
       "min                      NaN  3.100000e-01  1.000000e-01   \n",
       "25%                      NaN  7.402500e+03  3.234570e+03   \n",
       "50%                      NaN  1.458988e+04  5.928480e+03   \n",
       "75%                      NaN  2.914547e+04  1.134317e+04   \n",
       "max                      NaN  6.196974e+06  2.562478e+06   \n",
       "\n",
       "        ratio_of_total_costs_to_total_charges        Result  Payment_Typology  \n",
       "count                            1.048575e+06  1.048575e+06      1.048575e+06  \n",
       "unique                                    NaN           NaN               NaN  \n",
       "top                                       NaN           NaN               NaN  \n",
       "freq                                      NaN           NaN               NaN  \n",
       "mean                             4.565822e-01  7.499769e-01      1.935755e+00  \n",
       "std                              8.029246e-01  4.330263e-01      7.717916e-01  \n",
       "min                              3.312909e-02  0.000000e+00      1.000000e+00  \n",
       "25%                              3.135802e-01  0.000000e+00      1.000000e+00  \n",
       "50%                              4.091384e-01  1.000000e+00      2.000000e+00  \n",
       "75%                              5.192548e-01  1.000000e+00      3.000000e+00  \n",
       "max                              1.575596e+02  1.000000e+00      5.000000e+00  "
      ]
     },
     "execution_count": 9,
     "metadata": {},
     "output_type": "execute_result"
    }
   ],
   "source": [
    "insurance_data.describe(include='all')"
   ]
  },
  {
   "cell_type": "code",
   "execution_count": null,
   "id": "91ab35fc",
   "metadata": {},
   "outputs": [],
   "source": []
  },
  {
   "cell_type": "markdown",
   "id": "55c848c6",
   "metadata": {},
   "source": [
    "# EDA (Exploratory Data Analysis)"
   ]
  },
  {
   "cell_type": "code",
   "execution_count": 10,
   "id": "2edce7ae",
   "metadata": {},
   "outputs": [
    {
     "data": {
      "text/plain": [
       "Area_Service                             0.002342\n",
       "Hospital County                          0.002342\n",
       "Hospital Id                              0.002342\n",
       "Age                                      0.000000\n",
       "Gender                                   0.000000\n",
       "Cultural_group                           0.000000\n",
       "ethnicity                                0.000000\n",
       "Days_spend_hsptl                         0.000000\n",
       "Admission_type                           0.000000\n",
       "Home or self care,                       0.000000\n",
       "ccs_diagnosis_code                       0.000000\n",
       "ccs_procedure_code                       0.000000\n",
       "apr_drg_description                      0.000000\n",
       "Code_illness                             0.000000\n",
       "Mortality risk                           0.000040\n",
       "Surg_Description                         0.000000\n",
       "Weight_baby                              0.000000\n",
       "Abortion                                 0.000000\n",
       "Emergency dept_yes/No                    0.000000\n",
       "Tot_charg                                0.000000\n",
       "Tot_cost                                 0.000000\n",
       "ratio_of_total_costs_to_total_charges    0.000000\n",
       "Result                                   0.000000\n",
       "Payment_Typology                         0.000000\n",
       "dtype: float64"
      ]
     },
     "execution_count": 10,
     "metadata": {},
     "output_type": "execute_result"
    }
   ],
   "source": [
    "insurance_data.isna().mean()"
   ]
  },
  {
   "cell_type": "code",
   "execution_count": 11,
   "id": "0cb7cf9f",
   "metadata": {},
   "outputs": [
    {
     "data": {
      "text/plain": [
       "70 or Older    306017\n",
       "50 to 69       282013\n",
       "30 to 49       198827\n",
       "0 to 17        144607\n",
       "18 to 29       117111\n",
       "Name: Age, dtype: int64"
      ]
     },
     "execution_count": 11,
     "metadata": {},
     "output_type": "execute_result"
    }
   ],
   "source": [
    "insurance_data['Age'].value_counts()"
   ]
  },
  {
   "cell_type": "code",
   "execution_count": 12,
   "id": "8d1296fa",
   "metadata": {},
   "outputs": [
    {
     "data": {
      "text/plain": [
       "F    593506\n",
       "M    455019\n",
       "U        50\n",
       "Name: Gender, dtype: int64"
      ]
     },
     "execution_count": 12,
     "metadata": {},
     "output_type": "execute_result"
    }
   ],
   "source": [
    "insurance_data['Gender'].value_counts()"
   ]
  },
  {
   "cell_type": "code",
   "execution_count": 13,
   "id": "ae120e2a",
   "metadata": {},
   "outputs": [
    {
     "data": {
      "text/plain": [
       "1    786407\n",
       "0    262168\n",
       "Name: Result, dtype: int64"
      ]
     },
     "execution_count": 13,
     "metadata": {},
     "output_type": "execute_result"
    }
   ],
   "source": [
    "insurance_data['Result'].value_counts()"
   ]
  },
  {
   "cell_type": "code",
   "execution_count": 14,
   "id": "9ed1b15f",
   "metadata": {},
   "outputs": [
    {
     "data": {
      "text/plain": [
       "Emergency        608595\n",
       "Elective         235655\n",
       "Urgent           110338\n",
       "Newborn           90709\n",
       "Trauma             2258\n",
       "Not Available      1020\n",
       "Name: Admission_type, dtype: int64"
      ]
     },
     "execution_count": 14,
     "metadata": {},
     "output_type": "execute_result"
    }
   ],
   "source": [
    "insurance_data['Admission_type'].value_counts()"
   ]
  },
  {
   "cell_type": "code",
   "execution_count": 15,
   "id": "d5a4d585",
   "metadata": {},
   "outputs": [
    {
     "data": {
      "text/plain": [
       "2      236538\n",
       "3      190386\n",
       "1      155855\n",
       "4      113797\n",
       "5       73684\n",
       "        ...  \n",
       "108        20\n",
       "116        20\n",
       "110        19\n",
       "101        15\n",
       "113         7\n",
       "Name: Days_spend_hsptl, Length: 120, dtype: int64"
      ]
     },
     "execution_count": 15,
     "metadata": {},
     "output_type": "execute_result"
    }
   ],
   "source": [
    "insurance_data['Days_spend_hsptl'].value_counts()"
   ]
  },
  {
   "cell_type": "code",
   "execution_count": 16,
   "id": "47dc9ff7",
   "metadata": {},
   "outputs": [
    {
     "data": {
      "text/plain": [
       "(4814, 24)"
      ]
     },
     "execution_count": 16,
     "metadata": {},
     "output_type": "execute_result"
    }
   ],
   "source": [
    "insurance_data[insurance_data.duplicated()].shape"
   ]
  },
  {
   "cell_type": "code",
   "execution_count": 17,
   "id": "05e6b2de",
   "metadata": {},
   "outputs": [],
   "source": [
    "insurance_data_1=insurance_data.drop_duplicates()"
   ]
  },
  {
   "cell_type": "code",
   "execution_count": 18,
   "id": "429b85ae",
   "metadata": {},
   "outputs": [
    {
     "data": {
      "text/plain": [
       "(0, 24)"
      ]
     },
     "execution_count": 18,
     "metadata": {},
     "output_type": "execute_result"
    }
   ],
   "source": [
    "insurance_data_1[insurance_data_1.duplicated()].shape"
   ]
  },
  {
   "cell_type": "code",
   "execution_count": 19,
   "id": "2974712c",
   "metadata": {},
   "outputs": [
    {
     "data": {
      "text/plain": [
       "(1043761, 24)"
      ]
     },
     "execution_count": 19,
     "metadata": {},
     "output_type": "execute_result"
    }
   ],
   "source": [
    "insurance_data_1.shape"
   ]
  },
  {
   "cell_type": "code",
   "execution_count": 20,
   "id": "ad395724",
   "metadata": {},
   "outputs": [
    {
     "name": "stderr",
     "output_type": "stream",
     "text": [
      "C:\\Users\\user\\anaconda3\\lib\\site-packages\\pandas\\util\\_decorators.py:311: SettingWithCopyWarning: \n",
      "A value is trying to be set on a copy of a slice from a DataFrame\n",
      "\n",
      "See the caveats in the documentation: https://pandas.pydata.org/pandas-docs/stable/user_guide/indexing.html#returning-a-view-versus-a-copy\n",
      "  return func(*args, **kwargs)\n"
     ]
    }
   ],
   "source": [
    "insurance_data_1.dropna(inplace=True)\n",
    "\n",
    "import warnings\n",
    "warnings.filterwarnings('ignore')"
   ]
  },
  {
   "cell_type": "code",
   "execution_count": 21,
   "id": "6083d0f8",
   "metadata": {},
   "outputs": [
    {
     "data": {
      "text/plain": [
       "Area_Service                             0\n",
       "Hospital County                          0\n",
       "Hospital Id                              0\n",
       "Age                                      0\n",
       "Gender                                   0\n",
       "Cultural_group                           0\n",
       "ethnicity                                0\n",
       "Days_spend_hsptl                         0\n",
       "Admission_type                           0\n",
       "Home or self care,                       0\n",
       "ccs_diagnosis_code                       0\n",
       "ccs_procedure_code                       0\n",
       "apr_drg_description                      0\n",
       "Code_illness                             0\n",
       "Mortality risk                           0\n",
       "Surg_Description                         0\n",
       "Weight_baby                              0\n",
       "Abortion                                 0\n",
       "Emergency dept_yes/No                    0\n",
       "Tot_charg                                0\n",
       "Tot_cost                                 0\n",
       "ratio_of_total_costs_to_total_charges    0\n",
       "Result                                   0\n",
       "Payment_Typology                         0\n",
       "dtype: int64"
      ]
     },
     "execution_count": 21,
     "metadata": {},
     "output_type": "execute_result"
    }
   ],
   "source": [
    "insurance_data_1.isna().sum()"
   ]
  },
  {
   "cell_type": "code",
   "execution_count": 22,
   "id": "a610443e",
   "metadata": {},
   "outputs": [
    {
     "data": {
      "text/plain": [
       "(1041265, 24)"
      ]
     },
     "execution_count": 22,
     "metadata": {},
     "output_type": "execute_result"
    }
   ],
   "source": [
    "insurance_data_1.shape"
   ]
  },
  {
   "cell_type": "markdown",
   "id": "f45317db",
   "metadata": {},
   "source": [
    "**Drop Unnecessary Columns**"
   ]
  },
  {
   "cell_type": "code",
   "execution_count": 23,
   "id": "4d68d7f3",
   "metadata": {},
   "outputs": [],
   "source": [
    "fraud_data=insurance_data_1.drop(['Area_Service','Hospital Id','Home or self care,','ccs_procedure_code','Cultural_group','ethnicity','Weight_baby','Abortion'],axis=1)"
   ]
  },
  {
   "cell_type": "code",
   "execution_count": 24,
   "id": "60fcefe3",
   "metadata": {},
   "outputs": [
    {
     "data": {
      "text/html": [
       "<div>\n",
       "<style scoped>\n",
       "    .dataframe tbody tr th:only-of-type {\n",
       "        vertical-align: middle;\n",
       "    }\n",
       "\n",
       "    .dataframe tbody tr th {\n",
       "        vertical-align: top;\n",
       "    }\n",
       "\n",
       "    .dataframe thead th {\n",
       "        text-align: right;\n",
       "    }\n",
       "</style>\n",
       "<table border=\"1\" class=\"dataframe\">\n",
       "  <thead>\n",
       "    <tr style=\"text-align: right;\">\n",
       "      <th></th>\n",
       "      <th>Hospital County</th>\n",
       "      <th>Age</th>\n",
       "      <th>Gender</th>\n",
       "      <th>Days_spend_hsptl</th>\n",
       "      <th>Admission_type</th>\n",
       "      <th>ccs_diagnosis_code</th>\n",
       "      <th>apr_drg_description</th>\n",
       "      <th>Code_illness</th>\n",
       "      <th>Mortality risk</th>\n",
       "      <th>Surg_Description</th>\n",
       "      <th>Emergency dept_yes/No</th>\n",
       "      <th>Tot_charg</th>\n",
       "      <th>Tot_cost</th>\n",
       "      <th>ratio_of_total_costs_to_total_charges</th>\n",
       "      <th>Result</th>\n",
       "      <th>Payment_Typology</th>\n",
       "    </tr>\n",
       "  </thead>\n",
       "  <tbody>\n",
       "    <tr>\n",
       "      <th>0</th>\n",
       "      <td>Allegany</td>\n",
       "      <td>30 to 49</td>\n",
       "      <td>F</td>\n",
       "      <td>4</td>\n",
       "      <td>Elective</td>\n",
       "      <td>122</td>\n",
       "      <td>Other pneumonia</td>\n",
       "      <td>1</td>\n",
       "      <td>1.0</td>\n",
       "      <td>Medical</td>\n",
       "      <td>Y</td>\n",
       "      <td>5511.95</td>\n",
       "      <td>5582.49</td>\n",
       "      <td>1.012798</td>\n",
       "      <td>1</td>\n",
       "      <td>1</td>\n",
       "    </tr>\n",
       "    <tr>\n",
       "      <th>1</th>\n",
       "      <td>Allegany</td>\n",
       "      <td>70 or Older</td>\n",
       "      <td>F</td>\n",
       "      <td>4</td>\n",
       "      <td>Urgent</td>\n",
       "      <td>197</td>\n",
       "      <td>Cellulitis &amp; other skin infections</td>\n",
       "      <td>3</td>\n",
       "      <td>2.0</td>\n",
       "      <td>Medical</td>\n",
       "      <td>Y</td>\n",
       "      <td>4783.20</td>\n",
       "      <td>5162.82</td>\n",
       "      <td>1.079365</td>\n",
       "      <td>1</td>\n",
       "      <td>1</td>\n",
       "    </tr>\n",
       "    <tr>\n",
       "      <th>2</th>\n",
       "      <td>Allegany</td>\n",
       "      <td>30 to 49</td>\n",
       "      <td>F</td>\n",
       "      <td>3</td>\n",
       "      <td>Urgent</td>\n",
       "      <td>122</td>\n",
       "      <td>Other pneumonia</td>\n",
       "      <td>1</td>\n",
       "      <td>1.0</td>\n",
       "      <td>Medical</td>\n",
       "      <td>Y</td>\n",
       "      <td>3829.15</td>\n",
       "      <td>4056.52</td>\n",
       "      <td>1.059379</td>\n",
       "      <td>1</td>\n",
       "      <td>1</td>\n",
       "    </tr>\n",
       "    <tr>\n",
       "      <th>3</th>\n",
       "      <td>Allegany</td>\n",
       "      <td>0 to 17</td>\n",
       "      <td>F</td>\n",
       "      <td>1</td>\n",
       "      <td>Urgent</td>\n",
       "      <td>122</td>\n",
       "      <td>Other pneumonia</td>\n",
       "      <td>1</td>\n",
       "      <td>1.0</td>\n",
       "      <td>Medical</td>\n",
       "      <td>Y</td>\n",
       "      <td>1108.20</td>\n",
       "      <td>1644.75</td>\n",
       "      <td>1.484167</td>\n",
       "      <td>0</td>\n",
       "      <td>1</td>\n",
       "    </tr>\n",
       "    <tr>\n",
       "      <th>4</th>\n",
       "      <td>Allegany</td>\n",
       "      <td>70 or Older</td>\n",
       "      <td>F</td>\n",
       "      <td>3</td>\n",
       "      <td>Elective</td>\n",
       "      <td>122</td>\n",
       "      <td>Other pneumonia</td>\n",
       "      <td>2</td>\n",
       "      <td>3.0</td>\n",
       "      <td>Medical</td>\n",
       "      <td>Y</td>\n",
       "      <td>3418.18</td>\n",
       "      <td>3370.87</td>\n",
       "      <td>0.986161</td>\n",
       "      <td>1</td>\n",
       "      <td>1</td>\n",
       "    </tr>\n",
       "  </tbody>\n",
       "</table>\n",
       "</div>"
      ],
      "text/plain": [
       "  Hospital County          Age Gender Days_spend_hsptl Admission_type  \\\n",
       "0        Allegany     30 to 49      F                4       Elective   \n",
       "1        Allegany  70 or Older      F                4         Urgent   \n",
       "2        Allegany     30 to 49      F                3         Urgent   \n",
       "3        Allegany      0 to 17      F                1         Urgent   \n",
       "4        Allegany  70 or Older      F                3       Elective   \n",
       "\n",
       "   ccs_diagnosis_code                 apr_drg_description  Code_illness  \\\n",
       "0                 122                     Other pneumonia             1   \n",
       "1                 197  Cellulitis & other skin infections             3   \n",
       "2                 122                     Other pneumonia             1   \n",
       "3                 122                     Other pneumonia             1   \n",
       "4                 122                     Other pneumonia             2   \n",
       "\n",
       "   Mortality risk Surg_Description Emergency dept_yes/No  Tot_charg  Tot_cost  \\\n",
       "0             1.0          Medical                     Y    5511.95   5582.49   \n",
       "1             2.0          Medical                     Y    4783.20   5162.82   \n",
       "2             1.0          Medical                     Y    3829.15   4056.52   \n",
       "3             1.0          Medical                     Y    1108.20   1644.75   \n",
       "4             3.0          Medical                     Y    3418.18   3370.87   \n",
       "\n",
       "   ratio_of_total_costs_to_total_charges  Result  Payment_Typology  \n",
       "0                               1.012798       1                 1  \n",
       "1                               1.079365       1                 1  \n",
       "2                               1.059379       1                 1  \n",
       "3                               1.484167       0                 1  \n",
       "4                               0.986161       1                 1  "
      ]
     },
     "execution_count": 24,
     "metadata": {},
     "output_type": "execute_result"
    }
   ],
   "source": [
    "fraud_data.head()"
   ]
  },
  {
   "cell_type": "markdown",
   "id": "55ae333a",
   "metadata": {},
   "source": [
    "**converting categorical to numerical**"
   ]
  },
  {
   "cell_type": "code",
   "execution_count": 25,
   "id": "bed2face",
   "metadata": {},
   "outputs": [
    {
     "data": {
      "text/html": [
       "<div>\n",
       "<style scoped>\n",
       "    .dataframe tbody tr th:only-of-type {\n",
       "        vertical-align: middle;\n",
       "    }\n",
       "\n",
       "    .dataframe tbody tr th {\n",
       "        vertical-align: top;\n",
       "    }\n",
       "\n",
       "    .dataframe thead th {\n",
       "        text-align: right;\n",
       "    }\n",
       "</style>\n",
       "<table border=\"1\" class=\"dataframe\">\n",
       "  <thead>\n",
       "    <tr style=\"text-align: right;\">\n",
       "      <th></th>\n",
       "      <th>Hospital County</th>\n",
       "      <th>Age</th>\n",
       "      <th>Gender</th>\n",
       "      <th>Days_spend_hsptl</th>\n",
       "      <th>Admission_type</th>\n",
       "      <th>apr_drg_description</th>\n",
       "      <th>Surg_Description</th>\n",
       "      <th>Emergency dept_yes/No</th>\n",
       "    </tr>\n",
       "  </thead>\n",
       "  <tbody>\n",
       "    <tr>\n",
       "      <th>0</th>\n",
       "      <td>Allegany</td>\n",
       "      <td>30 to 49</td>\n",
       "      <td>F</td>\n",
       "      <td>4</td>\n",
       "      <td>Elective</td>\n",
       "      <td>Other pneumonia</td>\n",
       "      <td>Medical</td>\n",
       "      <td>Y</td>\n",
       "    </tr>\n",
       "    <tr>\n",
       "      <th>1</th>\n",
       "      <td>Allegany</td>\n",
       "      <td>70 or Older</td>\n",
       "      <td>F</td>\n",
       "      <td>4</td>\n",
       "      <td>Urgent</td>\n",
       "      <td>Cellulitis &amp; other skin infections</td>\n",
       "      <td>Medical</td>\n",
       "      <td>Y</td>\n",
       "    </tr>\n",
       "    <tr>\n",
       "      <th>2</th>\n",
       "      <td>Allegany</td>\n",
       "      <td>30 to 49</td>\n",
       "      <td>F</td>\n",
       "      <td>3</td>\n",
       "      <td>Urgent</td>\n",
       "      <td>Other pneumonia</td>\n",
       "      <td>Medical</td>\n",
       "      <td>Y</td>\n",
       "    </tr>\n",
       "    <tr>\n",
       "      <th>3</th>\n",
       "      <td>Allegany</td>\n",
       "      <td>0 to 17</td>\n",
       "      <td>F</td>\n",
       "      <td>1</td>\n",
       "      <td>Urgent</td>\n",
       "      <td>Other pneumonia</td>\n",
       "      <td>Medical</td>\n",
       "      <td>Y</td>\n",
       "    </tr>\n",
       "    <tr>\n",
       "      <th>4</th>\n",
       "      <td>Allegany</td>\n",
       "      <td>70 or Older</td>\n",
       "      <td>F</td>\n",
       "      <td>3</td>\n",
       "      <td>Elective</td>\n",
       "      <td>Other pneumonia</td>\n",
       "      <td>Medical</td>\n",
       "      <td>Y</td>\n",
       "    </tr>\n",
       "  </tbody>\n",
       "</table>\n",
       "</div>"
      ],
      "text/plain": [
       "  Hospital County          Age Gender Days_spend_hsptl Admission_type  \\\n",
       "0        Allegany     30 to 49      F                4       Elective   \n",
       "1        Allegany  70 or Older      F                4         Urgent   \n",
       "2        Allegany     30 to 49      F                3         Urgent   \n",
       "3        Allegany      0 to 17      F                1         Urgent   \n",
       "4        Allegany  70 or Older      F                3       Elective   \n",
       "\n",
       "                  apr_drg_description Surg_Description Emergency dept_yes/No  \n",
       "0                     Other pneumonia          Medical                     Y  \n",
       "1  Cellulitis & other skin infections          Medical                     Y  \n",
       "2                     Other pneumonia          Medical                     Y  \n",
       "3                     Other pneumonia          Medical                     Y  \n",
       "4                     Other pneumonia          Medical                     Y  "
      ]
     },
     "execution_count": 25,
     "metadata": {},
     "output_type": "execute_result"
    }
   ],
   "source": [
    "fraud_data.select_dtypes(include=['object']).head()"
   ]
  },
  {
   "cell_type": "code",
   "execution_count": 26,
   "id": "f2a30338",
   "metadata": {},
   "outputs": [
    {
     "data": {
      "text/plain": [
       "array(['4', '3', '1', '2', '5', '6', '14', '12', '9', '8', '10', '7',\n",
       "       '22', '11', '16', '15', '25', '13', '17', '28', '18', '19', '23',\n",
       "       '38', '20', '24', '26', '21', '27', '30', '29', '39', '87', '35',\n",
       "       '37', '32', '55', '56', '49', '110', '69', '75', '42', '51', '47',\n",
       "       '45', '46', '40', '34', '79', '43', '120 +', '65', '41', '31',\n",
       "       '50', '59', '44', '36', '70', '115', '58', '94', '33', '68', '67',\n",
       "       '54', '80', '85', '95', '78', '91', '88', '48', '52', '63', '57',\n",
       "       '74', '64', '53', '62', '97', '72', '118', '81', '90', '86', '106',\n",
       "       '112', '105', '114', '66', '89', '83', '84', '82', '93', '116',\n",
       "       '71', '60', '73', '61', '92', '76', '96', '77', '104', '100',\n",
       "       '103', '102', '117', '108', '99', '107', '98', '101', '119', '111',\n",
       "       '109', '113'], dtype=object)"
      ]
     },
     "execution_count": 26,
     "metadata": {},
     "output_type": "execute_result"
    }
   ],
   "source": [
    "fraud_data['Days_spend_hsptl'].unique()"
   ]
  },
  {
   "cell_type": "code",
   "execution_count": 27,
   "id": "1f681d93",
   "metadata": {},
   "outputs": [
    {
     "data": {
      "text/plain": [
       "120"
      ]
     },
     "execution_count": 27,
     "metadata": {},
     "output_type": "execute_result"
    }
   ],
   "source": [
    "fraud_data['Days_spend_hsptl'].nunique()"
   ]
  },
  {
   "cell_type": "markdown",
   "id": "daa40bfc",
   "metadata": {},
   "source": [
    "**So its showing the object(120+),so convert into the numerical**"
   ]
  },
  {
   "cell_type": "code",
   "execution_count": 28,
   "id": "6d3e6a68",
   "metadata": {},
   "outputs": [],
   "source": [
    "fraud_data.replace({'Days_spend_hsptl':'120 +'},121,inplace=True)"
   ]
  },
  {
   "cell_type": "code",
   "execution_count": 29,
   "id": "48fe976b",
   "metadata": {},
   "outputs": [],
   "source": [
    "fraud_data.Days_spend_hsptl=fraud_data.Days_spend_hsptl.astype('int')"
   ]
  },
  {
   "cell_type": "markdown",
   "id": "025bc790",
   "metadata": {},
   "source": [
    "**Data transformation techniques if the data is DISCRETE by using Label encoder**\n",
    "\n",
    "**converting the labels into a numeric form**"
   ]
  },
  {
   "cell_type": "code",
   "execution_count": 30,
   "id": "f4dc84ea",
   "metadata": {},
   "outputs": [],
   "source": [
    "from sklearn.preprocessing import LabelEncoder"
   ]
  },
  {
   "cell_type": "code",
   "execution_count": 31,
   "id": "67a57d47",
   "metadata": {},
   "outputs": [],
   "source": [
    "lable = LabelEncoder()\n",
    "fraud_data['Hospital County']=lable.fit_transform(fraud_data['Hospital County'])\n",
    "fraud_data['Age']=lable.fit_transform(fraud_data['Age'])\n",
    "fraud_data['Gender']=lable.fit_transform(fraud_data['Gender'])\n",
    "fraud_data['Admission_type']=lable.fit_transform(fraud_data['Admission_type'])\n",
    "fraud_data['apr_drg_description']=lable.fit_transform(fraud_data['apr_drg_description'])\n",
    "fraud_data['Surg_Description']=lable.fit_transform(fraud_data['Surg_Description'])\n",
    "fraud_data['Emergency dept_yes/No']=lable.fit_transform(fraud_data['Emergency dept_yes/No'])"
   ]
  },
  {
   "cell_type": "code",
   "execution_count": 32,
   "id": "80553df3",
   "metadata": {},
   "outputs": [
    {
     "data": {
      "text/html": [
       "<div>\n",
       "<style scoped>\n",
       "    .dataframe tbody tr th:only-of-type {\n",
       "        vertical-align: middle;\n",
       "    }\n",
       "\n",
       "    .dataframe tbody tr th {\n",
       "        vertical-align: top;\n",
       "    }\n",
       "\n",
       "    .dataframe thead th {\n",
       "        text-align: right;\n",
       "    }\n",
       "</style>\n",
       "<table border=\"1\" class=\"dataframe\">\n",
       "  <thead>\n",
       "    <tr style=\"text-align: right;\">\n",
       "      <th></th>\n",
       "      <th>Hospital County</th>\n",
       "      <th>Age</th>\n",
       "      <th>Gender</th>\n",
       "      <th>Days_spend_hsptl</th>\n",
       "      <th>Admission_type</th>\n",
       "      <th>ccs_diagnosis_code</th>\n",
       "      <th>apr_drg_description</th>\n",
       "      <th>Code_illness</th>\n",
       "      <th>Mortality risk</th>\n",
       "      <th>Surg_Description</th>\n",
       "      <th>Emergency dept_yes/No</th>\n",
       "      <th>Tot_charg</th>\n",
       "      <th>Tot_cost</th>\n",
       "      <th>ratio_of_total_costs_to_total_charges</th>\n",
       "      <th>Result</th>\n",
       "      <th>Payment_Typology</th>\n",
       "    </tr>\n",
       "  </thead>\n",
       "  <tbody>\n",
       "    <tr>\n",
       "      <th>0</th>\n",
       "      <td>1</td>\n",
       "      <td>2</td>\n",
       "      <td>0</td>\n",
       "      <td>4</td>\n",
       "      <td>0</td>\n",
       "      <td>122</td>\n",
       "      <td>237</td>\n",
       "      <td>1</td>\n",
       "      <td>1.0</td>\n",
       "      <td>0</td>\n",
       "      <td>1</td>\n",
       "      <td>5511.95</td>\n",
       "      <td>5582.49</td>\n",
       "      <td>1.012798</td>\n",
       "      <td>1</td>\n",
       "      <td>1</td>\n",
       "    </tr>\n",
       "    <tr>\n",
       "      <th>1</th>\n",
       "      <td>1</td>\n",
       "      <td>4</td>\n",
       "      <td>0</td>\n",
       "      <td>4</td>\n",
       "      <td>5</td>\n",
       "      <td>197</td>\n",
       "      <td>38</td>\n",
       "      <td>3</td>\n",
       "      <td>2.0</td>\n",
       "      <td>0</td>\n",
       "      <td>1</td>\n",
       "      <td>4783.20</td>\n",
       "      <td>5162.82</td>\n",
       "      <td>1.079365</td>\n",
       "      <td>1</td>\n",
       "      <td>1</td>\n",
       "    </tr>\n",
       "    <tr>\n",
       "      <th>2</th>\n",
       "      <td>1</td>\n",
       "      <td>2</td>\n",
       "      <td>0</td>\n",
       "      <td>3</td>\n",
       "      <td>5</td>\n",
       "      <td>122</td>\n",
       "      <td>237</td>\n",
       "      <td>1</td>\n",
       "      <td>1.0</td>\n",
       "      <td>0</td>\n",
       "      <td>1</td>\n",
       "      <td>3829.15</td>\n",
       "      <td>4056.52</td>\n",
       "      <td>1.059379</td>\n",
       "      <td>1</td>\n",
       "      <td>1</td>\n",
       "    </tr>\n",
       "    <tr>\n",
       "      <th>3</th>\n",
       "      <td>1</td>\n",
       "      <td>0</td>\n",
       "      <td>0</td>\n",
       "      <td>1</td>\n",
       "      <td>5</td>\n",
       "      <td>122</td>\n",
       "      <td>237</td>\n",
       "      <td>1</td>\n",
       "      <td>1.0</td>\n",
       "      <td>0</td>\n",
       "      <td>1</td>\n",
       "      <td>1108.20</td>\n",
       "      <td>1644.75</td>\n",
       "      <td>1.484167</td>\n",
       "      <td>0</td>\n",
       "      <td>1</td>\n",
       "    </tr>\n",
       "    <tr>\n",
       "      <th>4</th>\n",
       "      <td>1</td>\n",
       "      <td>4</td>\n",
       "      <td>0</td>\n",
       "      <td>3</td>\n",
       "      <td>0</td>\n",
       "      <td>122</td>\n",
       "      <td>237</td>\n",
       "      <td>2</td>\n",
       "      <td>3.0</td>\n",
       "      <td>0</td>\n",
       "      <td>1</td>\n",
       "      <td>3418.18</td>\n",
       "      <td>3370.87</td>\n",
       "      <td>0.986161</td>\n",
       "      <td>1</td>\n",
       "      <td>1</td>\n",
       "    </tr>\n",
       "  </tbody>\n",
       "</table>\n",
       "</div>"
      ],
      "text/plain": [
       "   Hospital County  Age  Gender  Days_spend_hsptl  Admission_type  \\\n",
       "0                1    2       0                 4               0   \n",
       "1                1    4       0                 4               5   \n",
       "2                1    2       0                 3               5   \n",
       "3                1    0       0                 1               5   \n",
       "4                1    4       0                 3               0   \n",
       "\n",
       "   ccs_diagnosis_code  apr_drg_description  Code_illness  Mortality risk  \\\n",
       "0                 122                  237             1             1.0   \n",
       "1                 197                   38             3             2.0   \n",
       "2                 122                  237             1             1.0   \n",
       "3                 122                  237             1             1.0   \n",
       "4                 122                  237             2             3.0   \n",
       "\n",
       "   Surg_Description  Emergency dept_yes/No  Tot_charg  Tot_cost  \\\n",
       "0                 0                      1    5511.95   5582.49   \n",
       "1                 0                      1    4783.20   5162.82   \n",
       "2                 0                      1    3829.15   4056.52   \n",
       "3                 0                      1    1108.20   1644.75   \n",
       "4                 0                      1    3418.18   3370.87   \n",
       "\n",
       "   ratio_of_total_costs_to_total_charges  Result  Payment_Typology  \n",
       "0                               1.012798       1                 1  \n",
       "1                               1.079365       1                 1  \n",
       "2                               1.059379       1                 1  \n",
       "3                               1.484167       0                 1  \n",
       "4                               0.986161       1                 1  "
      ]
     },
     "execution_count": 32,
     "metadata": {},
     "output_type": "execute_result"
    }
   ],
   "source": [
    "fraud_data.head()"
   ]
  },
  {
   "cell_type": "code",
   "execution_count": 33,
   "id": "f1d1a953",
   "metadata": {},
   "outputs": [
    {
     "data": {
      "text/plain": [
       "Hospital County                            int32\n",
       "Age                                        int32\n",
       "Gender                                     int32\n",
       "Days_spend_hsptl                           int32\n",
       "Admission_type                             int32\n",
       "ccs_diagnosis_code                         int64\n",
       "apr_drg_description                        int32\n",
       "Code_illness                               int64\n",
       "Mortality risk                           float64\n",
       "Surg_Description                           int32\n",
       "Emergency dept_yes/No                      int32\n",
       "Tot_charg                                float64\n",
       "Tot_cost                                 float64\n",
       "ratio_of_total_costs_to_total_charges    float64\n",
       "Result                                     int64\n",
       "Payment_Typology                           int64\n",
       "dtype: object"
      ]
     },
     "execution_count": 33,
     "metadata": {},
     "output_type": "execute_result"
    }
   ],
   "source": [
    "fraud_data.dtypes"
   ]
  },
  {
   "cell_type": "markdown",
   "id": "490d0df7",
   "metadata": {},
   "source": [
    "# Data Visualization"
   ]
  },
  {
   "cell_type": "code",
   "execution_count": 34,
   "id": "692632d3",
   "metadata": {},
   "outputs": [],
   "source": [
    "import matplotlib.pyplot as plt\n",
    "import seaborn as sns\n",
    "import plotly.offline as py\n",
    "import plotly.graph_objs as go\n",
    "import plotly.tools as tls"
   ]
  },
  {
   "cell_type": "markdown",
   "id": "1c6756be",
   "metadata": {},
   "source": [
    "**Univarient analysis**"
   ]
  },
  {
   "cell_type": "code",
   "execution_count": 35,
   "id": "870a5a8b",
   "metadata": {},
   "outputs": [
    {
     "data": {
      "image/png": "[encoded data removed]",
      "text/plain": [
       "<Figure size 504x360 with 1 Axes>"
      ]
     },
     "metadata": {
      "needs_background": "light"
     },
     "output_type": "display_data"
    }
   ],
   "source": [
    "plt.figure(figsize=(7,5))\n",
    "sns.countplot(x='Gender',data=fraud_data,palette='Spectral')\n",
    "plt.show()"
   ]
  },
  {
   "cell_type": "code",
   "execution_count": 36,
   "id": "3797e9f1",
   "metadata": {},
   "outputs": [
    {
     "data": {
      "image/png": "[encoded data removed]",
      "text/plain": [
       "<Figure size 504x360 with 1 Axes>"
      ]
     },
     "metadata": {
      "needs_background": "light"
     },
     "output_type": "display_data"
    }
   ],
   "source": [
    "plt.figure(figsize=(7,5))\n",
    "sns.countplot(x='Age',data=fraud_data,hue='Gender',palette='Set2')\n",
    "plt.show()"
   ]
  },
  {
   "cell_type": "code",
   "execution_count": 37,
   "id": "ba123169",
   "metadata": {},
   "outputs": [
    {
     "data": {
      "text/plain": [
       "<AxesSubplot:xlabel='Result', ylabel='count'>"
      ]
     },
     "execution_count": 37,
     "metadata": {},
     "output_type": "execute_result"
    },
    {
     "data": {
      "image/png": "[encoded data removed]",
      "text/plain": [
       "<Figure size 504x360 with 1 Axes>"
      ]
     },
     "metadata": {
      "needs_background": "light"
     },
     "output_type": "display_data"
    }
   ],
   "source": [
    "plt.figure(figsize=(7,5))\n",
    "sns.countplot(x='Result',data=fraud_data,palette='Spectral')"
   ]
  },
  {
   "cell_type": "code",
   "execution_count": 38,
   "id": "521197e3",
   "metadata": {},
   "outputs": [
    {
     "data": {
      "text/plain": [
       "4    305802\n",
       "3    281714\n",
       "2    197730\n",
       "0    140040\n",
       "1    115979\n",
       "Name: Age, dtype: int64"
      ]
     },
     "execution_count": 38,
     "metadata": {},
     "output_type": "execute_result"
    }
   ],
   "source": [
    "fraud_data['Age'].value_counts()"
   ]
  },
  {
   "cell_type": "code",
   "execution_count": 39,
   "id": "f70f3c48",
   "metadata": {},
   "outputs": [
    {
     "data": {
      "image/png": "[encoded data removed]",
      "text/plain": [
       "<Figure size 504x504 with 1 Axes>"
      ]
     },
     "metadata": {},
     "output_type": "display_data"
    }
   ],
   "source": [
    "plt.figure(figsize=(7,7))\n",
    "plt.pie(fraud_data['Age'].value_counts(),labels=[0,1,2,3,4],autopct='%1.0f%%', labeldistance=1.3,explode=[0.02,0.02,0.02,0.02,0],shadow=True)\n",
    "plt.show()"
   ]
  },
  {
   "cell_type": "code",
   "execution_count": 40,
   "id": "38ebc25f",
   "metadata": {},
   "outputs": [
    {
     "data": {
      "image/png": "[encoded data removed]",
      "text/plain": [
       "<Figure size 432x288 with 1 Axes>"
      ]
     },
     "metadata": {
      "needs_background": "light"
     },
     "output_type": "display_data"
    }
   ],
   "source": [
    "plt.boxplot(x='ratio_of_total_costs_to_total_charges',data=fraud_data)\n",
    "plt.show()"
   ]
  },
  {
   "cell_type": "markdown",
   "id": "82fd855b",
   "metadata": {},
   "source": [
    "**Bivarient analysis**"
   ]
  },
  {
   "cell_type": "code",
   "execution_count": 41,
   "id": "c0a2ab87",
   "metadata": {},
   "outputs": [],
   "source": [
    "#In Bar plot the x label should be discrete and y label should be continuous"
   ]
  },
  {
   "cell_type": "code",
   "execution_count": 42,
   "id": "1ff30f4d",
   "metadata": {},
   "outputs": [
    {
     "data": {
      "text/plain": [
       "<AxesSubplot:xlabel='Age', ylabel='ratio_of_total_costs_to_total_charges'>"
      ]
     },
     "execution_count": 42,
     "metadata": {},
     "output_type": "execute_result"
    },
    {
     "data": {
      "image/png": "[encoded data removed]",
      "text/plain": [
       "<Figure size 432x288 with 1 Axes>"
      ]
     },
     "metadata": {
      "needs_background": "light"
     },
     "output_type": "display_data"
    }
   ],
   "source": [
    "sns.barplot(x='Age',y='ratio_of_total_costs_to_total_charges',data=fraud_data)"
   ]
  },
  {
   "cell_type": "code",
   "execution_count": 43,
   "id": "1db7ca7e",
   "metadata": {},
   "outputs": [
    {
     "data": {
      "image/png": "[encoded data removed]",
      "text/plain": [
       "<Figure size 432x288 with 1 Axes>"
      ]
     },
     "metadata": {
      "needs_background": "light"
     },
     "output_type": "display_data"
    }
   ],
   "source": [
    "sns.barplot(x='Gender',y='ratio_of_total_costs_to_total_charges',data=fraud_data)\n",
    "plt.show()"
   ]
  },
  {
   "cell_type": "code",
   "execution_count": 44,
   "id": "796a40e2",
   "metadata": {},
   "outputs": [
    {
     "data": {
      "image/png": "[encoded data removed]",
      "text/plain": [
       "<Figure size 504x360 with 1 Axes>"
      ]
     },
     "metadata": {
      "needs_background": "light"
     },
     "output_type": "display_data"
    }
   ],
   "source": [
    "plt.figure(figsize=(7,5))\n",
    "sns.boxplot(x='Age',y='ratio_of_total_costs_to_total_charges',data=fraud_data)\n",
    "plt.show()"
   ]
  },
  {
   "cell_type": "code",
   "execution_count": 45,
   "id": "ee4d33d0",
   "metadata": {},
   "outputs": [
    {
     "data": {
      "text/plain": [
       "<seaborn.axisgrid.FacetGrid at 0x16aa745a6d0>"
      ]
     },
     "execution_count": 45,
     "metadata": {},
     "output_type": "execute_result"
    },
    {
     "data": {
      "image/png": "[encoded data removed]",
      "text/plain": [
       "<Figure size 1800x360 with 5 Axes>"
      ]
     },
     "metadata": {
      "needs_background": "light"
     },
     "output_type": "display_data"
    }
   ],
   "source": [
    "sns.lmplot(x='Tot_charg',y='Tot_cost',data=fraud_data,col='Age',palette = \"rocket\")"
   ]
  },
  {
   "cell_type": "code",
   "execution_count": 46,
   "id": "cba1689a",
   "metadata": {},
   "outputs": [
    {
     "data": {
      "text/plain": [
       "<seaborn.axisgrid.FacetGrid at 0x16a9f5a0040>"
      ]
     },
     "execution_count": 46,
     "metadata": {},
     "output_type": "execute_result"
    },
    {
     "data": {
      "image/png": "[encoded data removed]",
      "text/plain": [
       "<Figure size 404.875x360 with 1 Axes>"
      ]
     },
     "metadata": {
      "needs_background": "light"
     },
     "output_type": "display_data"
    }
   ],
   "source": [
    "sns.lmplot(x='Tot_charg',y='ratio_of_total_costs_to_total_charges',data=fraud_data,hue='Gender',palette = \"Set2\")"
   ]
  },
  {
   "cell_type": "code",
   "execution_count": 47,
   "id": "a9407ea0",
   "metadata": {},
   "outputs": [
    {
     "data": {
      "text/html": [
       "<div>\n",
       "<style scoped>\n",
       "    .dataframe tbody tr th:only-of-type {\n",
       "        vertical-align: middle;\n",
       "    }\n",
       "\n",
       "    .dataframe tbody tr th {\n",
       "        vertical-align: top;\n",
       "    }\n",
       "\n",
       "    .dataframe thead th {\n",
       "        text-align: right;\n",
       "    }\n",
       "</style>\n",
       "<table border=\"1\" class=\"dataframe\">\n",
       "  <thead>\n",
       "    <tr style=\"text-align: right;\">\n",
       "      <th></th>\n",
       "      <th>Hospital County</th>\n",
       "      <th>Age</th>\n",
       "      <th>Gender</th>\n",
       "      <th>Days_spend_hsptl</th>\n",
       "      <th>Admission_type</th>\n",
       "      <th>ccs_diagnosis_code</th>\n",
       "      <th>apr_drg_description</th>\n",
       "      <th>Code_illness</th>\n",
       "      <th>Mortality risk</th>\n",
       "      <th>Surg_Description</th>\n",
       "      <th>Emergency dept_yes/No</th>\n",
       "      <th>Tot_charg</th>\n",
       "      <th>Tot_cost</th>\n",
       "      <th>ratio_of_total_costs_to_total_charges</th>\n",
       "      <th>Result</th>\n",
       "      <th>Payment_Typology</th>\n",
       "    </tr>\n",
       "  </thead>\n",
       "  <tbody>\n",
       "    <tr>\n",
       "      <th>Hospital County</th>\n",
       "      <td>1.000000</td>\n",
       "      <td>0.026279</td>\n",
       "      <td>0.002148</td>\n",
       "      <td>0.015699</td>\n",
       "      <td>-0.004961</td>\n",
       "      <td>0.075190</td>\n",
       "      <td>-0.001563</td>\n",
       "      <td>-0.037452</td>\n",
       "      <td>-0.014600</td>\n",
       "      <td>-0.053254</td>\n",
       "      <td>-0.047489</td>\n",
       "      <td>-0.002326</td>\n",
       "      <td>-0.007147</td>\n",
       "      <td>0.003692</td>\n",
       "      <td>-0.001342</td>\n",
       "      <td>0.028792</td>\n",
       "    </tr>\n",
       "    <tr>\n",
       "      <th>Age</th>\n",
       "      <td>0.026279</td>\n",
       "      <td>1.000000</td>\n",
       "      <td>0.010131</td>\n",
       "      <td>0.091584</td>\n",
       "      <td>-0.109385</td>\n",
       "      <td>-0.223039</td>\n",
       "      <td>-0.050463</td>\n",
       "      <td>0.413520</td>\n",
       "      <td>0.498528</td>\n",
       "      <td>0.092201</td>\n",
       "      <td>0.342891</td>\n",
       "      <td>0.099697</td>\n",
       "      <td>0.084832</td>\n",
       "      <td>-0.049608</td>\n",
       "      <td>0.001983</td>\n",
       "      <td>0.251620</td>\n",
       "    </tr>\n",
       "    <tr>\n",
       "      <th>Gender</th>\n",
       "      <td>0.002148</td>\n",
       "      <td>0.010131</td>\n",
       "      <td>1.000000</td>\n",
       "      <td>0.045334</td>\n",
       "      <td>0.007178</td>\n",
       "      <td>0.063092</td>\n",
       "      <td>-0.080038</td>\n",
       "      <td>0.066807</td>\n",
       "      <td>0.067085</td>\n",
       "      <td>-0.036425</td>\n",
       "      <td>0.077533</td>\n",
       "      <td>0.046209</td>\n",
       "      <td>0.030831</td>\n",
       "      <td>-0.023177</td>\n",
       "      <td>-0.000066</td>\n",
       "      <td>-0.007203</td>\n",
       "    </tr>\n",
       "    <tr>\n",
       "      <th>Days_spend_hsptl</th>\n",
       "      <td>0.015699</td>\n",
       "      <td>0.091584</td>\n",
       "      <td>0.045334</td>\n",
       "      <td>1.000000</td>\n",
       "      <td>0.016057</td>\n",
       "      <td>0.130784</td>\n",
       "      <td>0.011447</td>\n",
       "      <td>0.324900</td>\n",
       "      <td>0.211171</td>\n",
       "      <td>0.024698</td>\n",
       "      <td>0.026482</td>\n",
       "      <td>0.666919</td>\n",
       "      <td>0.616737</td>\n",
       "      <td>0.001375</td>\n",
       "      <td>-0.000711</td>\n",
       "      <td>0.057573</td>\n",
       "    </tr>\n",
       "    <tr>\n",
       "      <th>Admission_type</th>\n",
       "      <td>-0.004961</td>\n",
       "      <td>-0.109385</td>\n",
       "      <td>0.007178</td>\n",
       "      <td>0.016057</td>\n",
       "      <td>1.000000</td>\n",
       "      <td>0.012607</td>\n",
       "      <td>0.025071</td>\n",
       "      <td>0.019216</td>\n",
       "      <td>0.013942</td>\n",
       "      <td>-0.163797</td>\n",
       "      <td>-0.076151</td>\n",
       "      <td>-0.031345</td>\n",
       "      <td>-0.022222</td>\n",
       "      <td>0.022305</td>\n",
       "      <td>-0.001403</td>\n",
       "      <td>0.013427</td>\n",
       "    </tr>\n",
       "    <tr>\n",
       "      <th>ccs_diagnosis_code</th>\n",
       "      <td>0.075190</td>\n",
       "      <td>-0.223039</td>\n",
       "      <td>0.063092</td>\n",
       "      <td>0.130784</td>\n",
       "      <td>0.012607</td>\n",
       "      <td>1.000000</td>\n",
       "      <td>-0.160681</td>\n",
       "      <td>-0.181906</td>\n",
       "      <td>-0.269338</td>\n",
       "      <td>-0.148600</td>\n",
       "      <td>-0.100412</td>\n",
       "      <td>-0.076322</td>\n",
       "      <td>-0.041976</td>\n",
       "      <td>0.030690</td>\n",
       "      <td>0.000317</td>\n",
       "      <td>-0.075115</td>\n",
       "    </tr>\n",
       "    <tr>\n",
       "      <th>apr_drg_description</th>\n",
       "      <td>-0.001563</td>\n",
       "      <td>-0.050463</td>\n",
       "      <td>-0.080038</td>\n",
       "      <td>0.011447</td>\n",
       "      <td>0.025071</td>\n",
       "      <td>-0.160681</td>\n",
       "      <td>1.000000</td>\n",
       "      <td>0.038844</td>\n",
       "      <td>0.017540</td>\n",
       "      <td>-0.093320</td>\n",
       "      <td>-0.092659</td>\n",
       "      <td>0.004112</td>\n",
       "      <td>0.006810</td>\n",
       "      <td>0.020936</td>\n",
       "      <td>0.000467</td>\n",
       "      <td>-0.004080</td>\n",
       "    </tr>\n",
       "    <tr>\n",
       "      <th>Code_illness</th>\n",
       "      <td>-0.037452</td>\n",
       "      <td>0.413520</td>\n",
       "      <td>0.066807</td>\n",
       "      <td>0.324900</td>\n",
       "      <td>0.019216</td>\n",
       "      <td>-0.181906</td>\n",
       "      <td>0.038844</td>\n",
       "      <td>1.000000</td>\n",
       "      <td>0.635410</td>\n",
       "      <td>-0.084941</td>\n",
       "      <td>0.307177</td>\n",
       "      <td>0.290234</td>\n",
       "      <td>0.246470</td>\n",
       "      <td>-0.033883</td>\n",
       "      <td>0.002065</td>\n",
       "      <td>0.155879</td>\n",
       "    </tr>\n",
       "    <tr>\n",
       "      <th>Mortality risk</th>\n",
       "      <td>-0.014600</td>\n",
       "      <td>0.498528</td>\n",
       "      <td>0.067085</td>\n",
       "      <td>0.211171</td>\n",
       "      <td>0.013942</td>\n",
       "      <td>-0.269338</td>\n",
       "      <td>0.017540</td>\n",
       "      <td>0.635410</td>\n",
       "      <td>1.000000</td>\n",
       "      <td>-0.068615</td>\n",
       "      <td>0.294515</td>\n",
       "      <td>0.221497</td>\n",
       "      <td>0.181717</td>\n",
       "      <td>-0.036955</td>\n",
       "      <td>0.002483</td>\n",
       "      <td>0.182199</td>\n",
       "    </tr>\n",
       "    <tr>\n",
       "      <th>Surg_Description</th>\n",
       "      <td>-0.053254</td>\n",
       "      <td>0.092201</td>\n",
       "      <td>-0.036425</td>\n",
       "      <td>0.024698</td>\n",
       "      <td>-0.163797</td>\n",
       "      <td>-0.148600</td>\n",
       "      <td>-0.093320</td>\n",
       "      <td>-0.084941</td>\n",
       "      <td>-0.068615</td>\n",
       "      <td>1.000000</td>\n",
       "      <td>-0.277383</td>\n",
       "      <td>0.210457</td>\n",
       "      <td>0.192765</td>\n",
       "      <td>-0.010672</td>\n",
       "      <td>-0.002039</td>\n",
       "      <td>-0.019396</td>\n",
       "    </tr>\n",
       "    <tr>\n",
       "      <th>Emergency dept_yes/No</th>\n",
       "      <td>-0.047489</td>\n",
       "      <td>0.342891</td>\n",
       "      <td>0.077533</td>\n",
       "      <td>0.026482</td>\n",
       "      <td>-0.076151</td>\n",
       "      <td>-0.100412</td>\n",
       "      <td>-0.092659</td>\n",
       "      <td>0.307177</td>\n",
       "      <td>0.294515</td>\n",
       "      <td>-0.277383</td>\n",
       "      <td>1.000000</td>\n",
       "      <td>0.010675</td>\n",
       "      <td>-0.009997</td>\n",
       "      <td>-0.049358</td>\n",
       "      <td>0.002676</td>\n",
       "      <td>0.104752</td>\n",
       "    </tr>\n",
       "    <tr>\n",
       "      <th>Tot_charg</th>\n",
       "      <td>-0.002326</td>\n",
       "      <td>0.099697</td>\n",
       "      <td>0.046209</td>\n",
       "      <td>0.666919</td>\n",
       "      <td>-0.031345</td>\n",
       "      <td>-0.076322</td>\n",
       "      <td>0.004112</td>\n",
       "      <td>0.290234</td>\n",
       "      <td>0.221497</td>\n",
       "      <td>0.210457</td>\n",
       "      <td>0.010675</td>\n",
       "      <td>1.000000</td>\n",
       "      <td>0.723527</td>\n",
       "      <td>-0.043142</td>\n",
       "      <td>-0.001055</td>\n",
       "      <td>0.080635</td>\n",
       "    </tr>\n",
       "    <tr>\n",
       "      <th>Tot_cost</th>\n",
       "      <td>-0.007147</td>\n",
       "      <td>0.084832</td>\n",
       "      <td>0.030831</td>\n",
       "      <td>0.616737</td>\n",
       "      <td>-0.022222</td>\n",
       "      <td>-0.041976</td>\n",
       "      <td>0.006810</td>\n",
       "      <td>0.246470</td>\n",
       "      <td>0.181717</td>\n",
       "      <td>0.192765</td>\n",
       "      <td>-0.009997</td>\n",
       "      <td>0.723527</td>\n",
       "      <td>1.000000</td>\n",
       "      <td>0.421115</td>\n",
       "      <td>-0.001400</td>\n",
       "      <td>0.056357</td>\n",
       "    </tr>\n",
       "    <tr>\n",
       "      <th>ratio_of_total_costs_to_total_charges</th>\n",
       "      <td>0.003692</td>\n",
       "      <td>-0.049608</td>\n",
       "      <td>-0.023177</td>\n",
       "      <td>0.001375</td>\n",
       "      <td>0.022305</td>\n",
       "      <td>0.030690</td>\n",
       "      <td>0.020936</td>\n",
       "      <td>-0.033883</td>\n",
       "      <td>-0.036955</td>\n",
       "      <td>-0.010672</td>\n",
       "      <td>-0.049358</td>\n",
       "      <td>-0.043142</td>\n",
       "      <td>0.421115</td>\n",
       "      <td>1.000000</td>\n",
       "      <td>0.000465</td>\n",
       "      <td>-0.034675</td>\n",
       "    </tr>\n",
       "    <tr>\n",
       "      <th>Result</th>\n",
       "      <td>-0.001342</td>\n",
       "      <td>0.001983</td>\n",
       "      <td>-0.000066</td>\n",
       "      <td>-0.000711</td>\n",
       "      <td>-0.001403</td>\n",
       "      <td>0.000317</td>\n",
       "      <td>0.000467</td>\n",
       "      <td>0.002065</td>\n",
       "      <td>0.002483</td>\n",
       "      <td>-0.002039</td>\n",
       "      <td>0.002676</td>\n",
       "      <td>-0.001055</td>\n",
       "      <td>-0.001400</td>\n",
       "      <td>0.000465</td>\n",
       "      <td>1.000000</td>\n",
       "      <td>0.001351</td>\n",
       "    </tr>\n",
       "    <tr>\n",
       "      <th>Payment_Typology</th>\n",
       "      <td>0.028792</td>\n",
       "      <td>0.251620</td>\n",
       "      <td>-0.007203</td>\n",
       "      <td>0.057573</td>\n",
       "      <td>0.013427</td>\n",
       "      <td>-0.075115</td>\n",
       "      <td>-0.004080</td>\n",
       "      <td>0.155879</td>\n",
       "      <td>0.182199</td>\n",
       "      <td>-0.019396</td>\n",
       "      <td>0.104752</td>\n",
       "      <td>0.080635</td>\n",
       "      <td>0.056357</td>\n",
       "      <td>-0.034675</td>\n",
       "      <td>0.001351</td>\n",
       "      <td>1.000000</td>\n",
       "    </tr>\n",
       "  </tbody>\n",
       "</table>\n",
       "</div>"
      ],
      "text/plain": [
       "                                       Hospital County       Age    Gender  \\\n",
       "Hospital County                               1.000000  0.026279  0.002148   \n",
       "Age                                           0.026279  1.000000  0.010131   \n",
       "Gender                                        0.002148  0.010131  1.000000   \n",
       "Days_spend_hsptl                              0.015699  0.091584  0.045334   \n",
       "Admission_type                               -0.004961 -0.109385  0.007178   \n",
       "ccs_diagnosis_code                            0.075190 -0.223039  0.063092   \n",
       "apr_drg_description                          -0.001563 -0.050463 -0.080038   \n",
       "Code_illness                                 -0.037452  0.413520  0.066807   \n",
       "Mortality risk                               -0.014600  0.498528  0.067085   \n",
       "Surg_Description                             -0.053254  0.092201 -0.036425   \n",
       "Emergency dept_yes/No                        -0.047489  0.342891  0.077533   \n",
       "Tot_charg                                    -0.002326  0.099697  0.046209   \n",
       "Tot_cost                                     -0.007147  0.084832  0.030831   \n",
       "ratio_of_total_costs_to_total_charges         0.003692 -0.049608 -0.023177   \n",
       "Result                                       -0.001342  0.001983 -0.000066   \n",
       "Payment_Typology                              0.028792  0.251620 -0.007203   \n",
       "\n",
       "                                       Days_spend_hsptl  Admission_type  \\\n",
       "Hospital County                                0.015699       -0.004961   \n",
       "Age                                            0.091584       -0.109385   \n",
       "Gender                                         0.045334        0.007178   \n",
       "Days_spend_hsptl                               1.000000        0.016057   \n",
       "Admission_type                                 0.016057        1.000000   \n",
       "ccs_diagnosis_code                             0.130784        0.012607   \n",
       "apr_drg_description                            0.011447        0.025071   \n",
       "Code_illness                                   0.324900        0.019216   \n",
       "Mortality risk                                 0.211171        0.013942   \n",
       "Surg_Description                               0.024698       -0.163797   \n",
       "Emergency dept_yes/No                          0.026482       -0.076151   \n",
       "Tot_charg                                      0.666919       -0.031345   \n",
       "Tot_cost                                       0.616737       -0.022222   \n",
       "ratio_of_total_costs_to_total_charges          0.001375        0.022305   \n",
       "Result                                        -0.000711       -0.001403   \n",
       "Payment_Typology                               0.057573        0.013427   \n",
       "\n",
       "                                       ccs_diagnosis_code  \\\n",
       "Hospital County                                  0.075190   \n",
       "Age                                             -0.223039   \n",
       "Gender                                           0.063092   \n",
       "Days_spend_hsptl                                 0.130784   \n",
       "Admission_type                                   0.012607   \n",
       "ccs_diagnosis_code                               1.000000   \n",
       "apr_drg_description                             -0.160681   \n",
       "Code_illness                                    -0.181906   \n",
       "Mortality risk                                  -0.269338   \n",
       "Surg_Description                                -0.148600   \n",
       "Emergency dept_yes/No                           -0.100412   \n",
       "Tot_charg                                       -0.076322   \n",
       "Tot_cost                                        -0.041976   \n",
       "ratio_of_total_costs_to_total_charges            0.030690   \n",
       "Result                                           0.000317   \n",
       "Payment_Typology                                -0.075115   \n",
       "\n",
       "                                       apr_drg_description  Code_illness  \\\n",
       "Hospital County                                  -0.001563     -0.037452   \n",
       "Age                                              -0.050463      0.413520   \n",
       "Gender                                           -0.080038      0.066807   \n",
       "Days_spend_hsptl                                  0.011447      0.324900   \n",
       "Admission_type                                    0.025071      0.019216   \n",
       "ccs_diagnosis_code                               -0.160681     -0.181906   \n",
       "apr_drg_description                               1.000000      0.038844   \n",
       "Code_illness                                      0.038844      1.000000   \n",
       "Mortality risk                                    0.017540      0.635410   \n",
       "Surg_Description                                 -0.093320     -0.084941   \n",
       "Emergency dept_yes/No                            -0.092659      0.307177   \n",
       "Tot_charg                                         0.004112      0.290234   \n",
       "Tot_cost                                          0.006810      0.246470   \n",
       "ratio_of_total_costs_to_total_charges             0.020936     -0.033883   \n",
       "Result                                            0.000467      0.002065   \n",
       "Payment_Typology                                 -0.004080      0.155879   \n",
       "\n",
       "                                       Mortality risk  Surg_Description  \\\n",
       "Hospital County                             -0.014600         -0.053254   \n",
       "Age                                          0.498528          0.092201   \n",
       "Gender                                       0.067085         -0.036425   \n",
       "Days_spend_hsptl                             0.211171          0.024698   \n",
       "Admission_type                               0.013942         -0.163797   \n",
       "ccs_diagnosis_code                          -0.269338         -0.148600   \n",
       "apr_drg_description                          0.017540         -0.093320   \n",
       "Code_illness                                 0.635410         -0.084941   \n",
       "Mortality risk                               1.000000         -0.068615   \n",
       "Surg_Description                            -0.068615          1.000000   \n",
       "Emergency dept_yes/No                        0.294515         -0.277383   \n",
       "Tot_charg                                    0.221497          0.210457   \n",
       "Tot_cost                                     0.181717          0.192765   \n",
       "ratio_of_total_costs_to_total_charges       -0.036955         -0.010672   \n",
       "Result                                       0.002483         -0.002039   \n",
       "Payment_Typology                             0.182199         -0.019396   \n",
       "\n",
       "                                       Emergency dept_yes/No  Tot_charg  \\\n",
       "Hospital County                                    -0.047489  -0.002326   \n",
       "Age                                                 0.342891   0.099697   \n",
       "Gender                                              0.077533   0.046209   \n",
       "Days_spend_hsptl                                    0.026482   0.666919   \n",
       "Admission_type                                     -0.076151  -0.031345   \n",
       "ccs_diagnosis_code                                 -0.100412  -0.076322   \n",
       "apr_drg_description                                -0.092659   0.004112   \n",
       "Code_illness                                        0.307177   0.290234   \n",
       "Mortality risk                                      0.294515   0.221497   \n",
       "Surg_Description                                   -0.277383   0.210457   \n",
       "Emergency dept_yes/No                               1.000000   0.010675   \n",
       "Tot_charg                                           0.010675   1.000000   \n",
       "Tot_cost                                           -0.009997   0.723527   \n",
       "ratio_of_total_costs_to_total_charges              -0.049358  -0.043142   \n",
       "Result                                              0.002676  -0.001055   \n",
       "Payment_Typology                                    0.104752   0.080635   \n",
       "\n",
       "                                       Tot_cost  \\\n",
       "Hospital County                       -0.007147   \n",
       "Age                                    0.084832   \n",
       "Gender                                 0.030831   \n",
       "Days_spend_hsptl                       0.616737   \n",
       "Admission_type                        -0.022222   \n",
       "ccs_diagnosis_code                    -0.041976   \n",
       "apr_drg_description                    0.006810   \n",
       "Code_illness                           0.246470   \n",
       "Mortality risk                         0.181717   \n",
       "Surg_Description                       0.192765   \n",
       "Emergency dept_yes/No                 -0.009997   \n",
       "Tot_charg                              0.723527   \n",
       "Tot_cost                               1.000000   \n",
       "ratio_of_total_costs_to_total_charges  0.421115   \n",
       "Result                                -0.001400   \n",
       "Payment_Typology                       0.056357   \n",
       "\n",
       "                                       ratio_of_total_costs_to_total_charges  \\\n",
       "Hospital County                                                     0.003692   \n",
       "Age                                                                -0.049608   \n",
       "Gender                                                             -0.023177   \n",
       "Days_spend_hsptl                                                    0.001375   \n",
       "Admission_type                                                      0.022305   \n",
       "ccs_diagnosis_code                                                  0.030690   \n",
       "apr_drg_description                                                 0.020936   \n",
       "Code_illness                                                       -0.033883   \n",
       "Mortality risk                                                     -0.036955   \n",
       "Surg_Description                                                   -0.010672   \n",
       "Emergency dept_yes/No                                              -0.049358   \n",
       "Tot_charg                                                          -0.043142   \n",
       "Tot_cost                                                            0.421115   \n",
       "ratio_of_total_costs_to_total_charges                               1.000000   \n",
       "Result                                                              0.000465   \n",
       "Payment_Typology                                                   -0.034675   \n",
       "\n",
       "                                         Result  Payment_Typology  \n",
       "Hospital County                       -0.001342          0.028792  \n",
       "Age                                    0.001983          0.251620  \n",
       "Gender                                -0.000066         -0.007203  \n",
       "Days_spend_hsptl                      -0.000711          0.057573  \n",
       "Admission_type                        -0.001403          0.013427  \n",
       "ccs_diagnosis_code                     0.000317         -0.075115  \n",
       "apr_drg_description                    0.000467         -0.004080  \n",
       "Code_illness                           0.002065          0.155879  \n",
       "Mortality risk                         0.002483          0.182199  \n",
       "Surg_Description                      -0.002039         -0.019396  \n",
       "Emergency dept_yes/No                  0.002676          0.104752  \n",
       "Tot_charg                             -0.001055          0.080635  \n",
       "Tot_cost                              -0.001400          0.056357  \n",
       "ratio_of_total_costs_to_total_charges  0.000465         -0.034675  \n",
       "Result                                 1.000000          0.001351  \n",
       "Payment_Typology                       0.001351          1.000000  "
      ]
     },
     "execution_count": 47,
     "metadata": {},
     "output_type": "execute_result"
    }
   ],
   "source": [
    "corr=fraud_data.corr()\n",
    "corr"
   ]
  },
  {
   "cell_type": "code",
   "execution_count": 48,
   "id": "fb40b20d",
   "metadata": {},
   "outputs": [
    {
     "data": {
      "text/plain": [
       "<AxesSubplot:>"
      ]
     },
     "execution_count": 48,
     "metadata": {},
     "output_type": "execute_result"
    },
    {
     "data": {
      "image/png": "[encoded data removed]",
      "text/plain": [
       "<Figure size 1008x720 with 2 Axes>"
      ]
     },
     "metadata": {
      "needs_background": "light"
     },
     "output_type": "display_data"
    }
   ],
   "source": [
    "plt.figure(figsize=(14,10))\n",
    "sns.heatmap(data=corr,annot =True)"
   ]
  },
  {
   "cell_type": "code",
   "execution_count": null,
   "id": "fb8964d8",
   "metadata": {},
   "outputs": [],
   "source": []
  },
  {
   "cell_type": "code",
   "execution_count": null,
   "id": "b25377b2",
   "metadata": {},
   "outputs": [],
   "source": []
  }
 ],
 "metadata": {
  "kernelspec": {
   "display_name": "Python 3 (ipykernel)",
   "language": "python",
   "name": "python3"
  },
  "language_info": {
   "codemirror_mode": {
    "name": "ipython",
    "version": 3
   },
   "file_extension": ".py",
   "mimetype": "text/x-python",
   "name": "python",
   "nbconvert_exporter": "python",
   "pygments_lexer": "ipython3",
   "version": "3.9.7"
  }
 },
 "nbformat": 4,
 "nbformat_minor": 5
}
